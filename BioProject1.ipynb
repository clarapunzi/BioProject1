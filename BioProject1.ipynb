{
 "cells": [
  {
   "cell_type": "code",
   "execution_count": 20,
   "metadata": {},
   "outputs": [],
   "source": [
    "import pandas as pd\n",
    "import re"
   ]
  },
  {
   "cell_type": "markdown",
   "metadata": {},
   "source": [
    "## 1.1) Explore information sources and compile the seed gene list:\n",
    "a) Get the list of human genes (i.e. the **seed list**) involved in the disease **Cardiomyopathy, Dilated** from the dataset *“Curated gene-disease associations”* (from *https://www.disgenet.org/downloads*)"
   ]
  },
  {
   "cell_type": "code",
   "execution_count": 3,
   "metadata": {},
   "outputs": [],
   "source": [
    "root = \"C:/Users/clara/Documents/Bio/\"\n",
    "path = \"C:/Users/clara/Documents/Bio/curated_gene_disease_associations.tsv\"\n",
    "curated_gene_desease_association_DF = pd.read_csv(path, sep = '\\t', compression = 'infer')"
   ]
  },
  {
   "cell_type": "code",
   "execution_count": 4,
   "metadata": {},
   "outputs": [
    {
     "name": "stdout",
     "output_type": "stream",
     "text": [
      "Number of detected genes involved in the desease \"Cardiomyopathy, Dilated\":  48\n"
     ]
    },
    {
     "data": {
      "text/html": [
       "<div>\n",
       "<style scoped>\n",
       "    .dataframe tbody tr th:only-of-type {\n",
       "        vertical-align: middle;\n",
       "    }\n",
       "\n",
       "    .dataframe tbody tr th {\n",
       "        vertical-align: top;\n",
       "    }\n",
       "\n",
       "    .dataframe thead th {\n",
       "        text-align: right;\n",
       "    }\n",
       "</style>\n",
       "<table border=\"1\" class=\"dataframe\">\n",
       "  <thead>\n",
       "    <tr style=\"text-align: right;\">\n",
       "      <th></th>\n",
       "      <th>geneId</th>\n",
       "      <th>geneSymbol</th>\n",
       "      <th>DSI</th>\n",
       "      <th>DPI</th>\n",
       "      <th>diseaseId</th>\n",
       "      <th>diseaseName</th>\n",
       "      <th>diseaseType</th>\n",
       "      <th>diseaseClass</th>\n",
       "      <th>diseaseSemanticType</th>\n",
       "      <th>score</th>\n",
       "      <th>EI</th>\n",
       "      <th>YearInitial</th>\n",
       "      <th>YearFinal</th>\n",
       "      <th>NofPmids</th>\n",
       "      <th>NofSnps</th>\n",
       "      <th>source</th>\n",
       "    </tr>\n",
       "  </thead>\n",
       "  <tbody>\n",
       "    <tr>\n",
       "      <th>502</th>\n",
       "      <td>58</td>\n",
       "      <td>ACTA1</td>\n",
       "      <td>0.540</td>\n",
       "      <td>0.769</td>\n",
       "      <td>C0007193</td>\n",
       "      <td>Cardiomyopathy, Dilated</td>\n",
       "      <td>group</td>\n",
       "      <td>C14</td>\n",
       "      <td>Disease or Syndrome</td>\n",
       "      <td>0.40</td>\n",
       "      <td>1.0</td>\n",
       "      <td>2006.0</td>\n",
       "      <td>2013.0</td>\n",
       "      <td>2</td>\n",
       "      <td>0</td>\n",
       "      <td>GENOMICS_ENGLAND</td>\n",
       "    </tr>\n",
       "    <tr>\n",
       "      <th>610</th>\n",
       "      <td>70</td>\n",
       "      <td>ACTC1</td>\n",
       "      <td>0.610</td>\n",
       "      <td>0.538</td>\n",
       "      <td>C0007193</td>\n",
       "      <td>Cardiomyopathy, Dilated</td>\n",
       "      <td>group</td>\n",
       "      <td>C14</td>\n",
       "      <td>Disease or Syndrome</td>\n",
       "      <td>0.65</td>\n",
       "      <td>1.0</td>\n",
       "      <td>2006.0</td>\n",
       "      <td>2019.0</td>\n",
       "      <td>0</td>\n",
       "      <td>3</td>\n",
       "      <td>CTD_human</td>\n",
       "    </tr>\n",
       "    <tr>\n",
       "      <th>1414</th>\n",
       "      <td>153</td>\n",
       "      <td>ADRB1</td>\n",
       "      <td>0.555</td>\n",
       "      <td>0.769</td>\n",
       "      <td>C0007193</td>\n",
       "      <td>Cardiomyopathy, Dilated</td>\n",
       "      <td>group</td>\n",
       "      <td>C14</td>\n",
       "      <td>Disease or Syndrome</td>\n",
       "      <td>0.58</td>\n",
       "      <td>1.0</td>\n",
       "      <td>1998.0</td>\n",
       "      <td>2019.0</td>\n",
       "      <td>1</td>\n",
       "      <td>0</td>\n",
       "      <td>CTD_human</td>\n",
       "    </tr>\n",
       "    <tr>\n",
       "      <th>1444</th>\n",
       "      <td>154</td>\n",
       "      <td>ADRB2</td>\n",
       "      <td>0.442</td>\n",
       "      <td>0.923</td>\n",
       "      <td>C0007193</td>\n",
       "      <td>Cardiomyopathy, Dilated</td>\n",
       "      <td>group</td>\n",
       "      <td>C14</td>\n",
       "      <td>Disease or Syndrome</td>\n",
       "      <td>0.51</td>\n",
       "      <td>1.0</td>\n",
       "      <td>2002.0</td>\n",
       "      <td>2008.0</td>\n",
       "      <td>1</td>\n",
       "      <td>0</td>\n",
       "      <td>CTD_human</td>\n",
       "    </tr>\n",
       "    <tr>\n",
       "      <th>3663</th>\n",
       "      <td>355</td>\n",
       "      <td>FAS</td>\n",
       "      <td>0.372</td>\n",
       "      <td>0.923</td>\n",
       "      <td>C0007193</td>\n",
       "      <td>Cardiomyopathy, Dilated</td>\n",
       "      <td>group</td>\n",
       "      <td>C14</td>\n",
       "      <td>Disease or Syndrome</td>\n",
       "      <td>0.51</td>\n",
       "      <td>1.0</td>\n",
       "      <td>1999.0</td>\n",
       "      <td>2007.0</td>\n",
       "      <td>1</td>\n",
       "      <td>0</td>\n",
       "      <td>CTD_human</td>\n",
       "    </tr>\n",
       "  </tbody>\n",
       "</table>\n",
       "</div>"
      ],
      "text/plain": [
       "      geneId geneSymbol    DSI    DPI diseaseId              diseaseName  \\\n",
       "502       58      ACTA1  0.540  0.769  C0007193  Cardiomyopathy, Dilated   \n",
       "610       70      ACTC1  0.610  0.538  C0007193  Cardiomyopathy, Dilated   \n",
       "1414     153      ADRB1  0.555  0.769  C0007193  Cardiomyopathy, Dilated   \n",
       "1444     154      ADRB2  0.442  0.923  C0007193  Cardiomyopathy, Dilated   \n",
       "3663     355        FAS  0.372  0.923  C0007193  Cardiomyopathy, Dilated   \n",
       "\n",
       "     diseaseType diseaseClass  diseaseSemanticType  score   EI  YearInitial  \\\n",
       "502        group          C14  Disease or Syndrome   0.40  1.0       2006.0   \n",
       "610        group          C14  Disease or Syndrome   0.65  1.0       2006.0   \n",
       "1414       group          C14  Disease or Syndrome   0.58  1.0       1998.0   \n",
       "1444       group          C14  Disease or Syndrome   0.51  1.0       2002.0   \n",
       "3663       group          C14  Disease or Syndrome   0.51  1.0       1999.0   \n",
       "\n",
       "      YearFinal  NofPmids  NofSnps            source  \n",
       "502      2013.0         2        0  GENOMICS_ENGLAND  \n",
       "610      2019.0         0        3         CTD_human  \n",
       "1414     2019.0         1        0         CTD_human  \n",
       "1444     2008.0         1        0         CTD_human  \n",
       "3663     2007.0         1        0         CTD_human  "
      ]
     },
     "execution_count": 4,
     "metadata": {},
     "output_type": "execute_result"
    }
   ],
   "source": [
    "cardio_DF = curated_gene_desease_association_DF.loc[curated_gene_desease_association_DF['diseaseId'] == 'C0007193']\n",
    "print('Number of detected genes involved in the desease \"Cardiomyopathy, Dilated\": ', len(cardio_DF))\n",
    "cardio_DF.head(5)"
   ]
  },
  {
   "cell_type": "code",
   "execution_count": 5,
   "metadata": {},
   "outputs": [],
   "source": [
    "seed_list = list(cardio_DF['geneId'])"
   ]
  },
  {
   "cell_type": "markdown",
   "metadata": {},
   "source": [
    "b) Check if gene symbols for all genes in the seed gene list are updated and approved on the *HGNC* website"
   ]
  },
  {
   "cell_type": "code",
   "execution_count": 6,
   "metadata": {},
   "outputs": [
    {
     "name": "stdout",
     "output_type": "stream",
     "text": [
      "['ACTA1', 'ACTC1', 'ADRB1', 'ADRB2', 'FAS', 'FASLG', 'ATM', 'CD36', 'CSF3', 'NKX2-5', 'CTNNB1', 'DMD', 'EGFR', 'FASN', 'GPX1', 'ITGB1', 'LMNA', 'NR3C2', 'MYH6', 'MYH7', 'NPPA', 'NPPB', 'PKP2', 'PSEN1', 'PSEN2', 'RAC1', 'RAF1', 'RENBP', 'SCN5A', 'SDHA', 'SGCB', 'SHBG', 'SLC22A5', 'SOD2', 'TCF7L2', 'TMPO', 'TNNI3', 'TNNT2', 'TTN', 'UCP1', 'ALMS1', 'AXIN2', 'ABCC9', 'WDR12', 'CSRNP1', 'ABRA', 'SIK1', 'CAVIN4']\n"
     ]
    }
   ],
   "source": [
    "cardio_DF['geneSymbol'].to_csv('gene_symbols.csv', index = False, header = False, line_terminator = ',')\n",
    "gene_symbols_list = list(cardio_DF['geneSymbol'])\n",
    "print(gene_symbols_list)"
   ]
  },
  {
   "cell_type": "code",
   "execution_count": 7,
   "metadata": {},
   "outputs": [],
   "source": [
    "cardio_DF['geneId'].to_csv('geneId.csv', index = False, header = False, line_terminator = ',')"
   ]
  },
  {
   "cell_type": "markdown",
   "metadata": {},
   "source": [
    "The multi-symbol checker on the *HGNC* database reports that all the gene symbols in our seed list are updated and approved. Three of them match both an approved and an alias symbol, namely ***FAS***, ***RAC1*** and ***RAF1***"
   ]
  },
  {
   "cell_type": "markdown",
   "metadata": {},
   "source": [
    "For each protein in our seed list we want to collect the following information from the *Uniprot* website:\n",
    "* official (primary) **gene symbol** --> *Gene names (primary)*\n",
    "* **Uniprot AC**, alphanumeric ‘accession number’ (a.k.a. ’Uniprot entry’) --> *Entry*\n",
    "* **protein name** (the main one only, do not report the aliases)\n",
    "* **Entrez Gene ID** (a.k.a. ‘GeneID’) --> *geneID* from disgenet\n",
    "* very brief description of its function (keep it very short, i.e. max 20 words)\n",
    "* notes related to the above information, if any and if relevant"
   ]
  },
  {
   "cell_type": "markdown",
   "metadata": {},
   "source": [
    "**NOTE**: With regards to the gene symbol **TMPO** only the entry corresponding to the protein *Thymopoietin, isoforms alpha* (P42166) has been kept since its information on the *HGNG* only refer to this one and not to the isoform beta/gamma"
   ]
  },
  {
   "cell_type": "code",
   "execution_count": 8,
   "metadata": {},
   "outputs": [],
   "source": [
    "path = root + \"uniprot-list-with-ids.csv\"\n",
    "uniprot_DF = pd.read_csv(path, sep = '\\t')\n",
    "uniprot_DF['ProteinName'] = uniprot_DF['ProteinName'].str.split(r\"\\(|\\[\").str[0]"
   ]
  },
  {
   "cell_type": "code",
   "execution_count": 33,
   "metadata": {},
   "outputs": [
    {
     "data": {
      "text/html": [
       "<div>\n",
       "<style scoped>\n",
       "    .dataframe tbody tr th:only-of-type {\n",
       "        vertical-align: middle;\n",
       "    }\n",
       "\n",
       "    .dataframe tbody tr th {\n",
       "        vertical-align: top;\n",
       "    }\n",
       "\n",
       "    .dataframe thead th {\n",
       "        text-align: right;\n",
       "    }\n",
       "</style>\n",
       "<table border=\"1\" class=\"dataframe\">\n",
       "  <thead>\n",
       "    <tr style=\"text-align: right;\">\n",
       "      <th></th>\n",
       "      <th>GeneName</th>\n",
       "      <th>UniprotAC</th>\n",
       "      <th>ProteinName</th>\n",
       "      <th>GeneId</th>\n",
       "    </tr>\n",
       "  </thead>\n",
       "  <tbody>\n",
       "    <tr>\n",
       "      <th>0</th>\n",
       "      <td>ACTA1</td>\n",
       "      <td>P68133</td>\n",
       "      <td>Actin, alpha skeletal muscle</td>\n",
       "      <td>58</td>\n",
       "    </tr>\n",
       "    <tr>\n",
       "      <th>1</th>\n",
       "      <td>ACTC1</td>\n",
       "      <td>P68032</td>\n",
       "      <td>Actin, alpha cardiac muscle 1</td>\n",
       "      <td>70</td>\n",
       "    </tr>\n",
       "    <tr>\n",
       "      <th>2</th>\n",
       "      <td>ADRB1</td>\n",
       "      <td>P08588</td>\n",
       "      <td>Beta-1 adrenergic receptor</td>\n",
       "      <td>153</td>\n",
       "    </tr>\n",
       "    <tr>\n",
       "      <th>3</th>\n",
       "      <td>ADRB2</td>\n",
       "      <td>P07550</td>\n",
       "      <td>Beta-2 adrenergic receptor</td>\n",
       "      <td>154</td>\n",
       "    </tr>\n",
       "    <tr>\n",
       "      <th>4</th>\n",
       "      <td>FAS</td>\n",
       "      <td>P25445</td>\n",
       "      <td>Tumor necrosis factor receptor superfamily mem...</td>\n",
       "      <td>355</td>\n",
       "    </tr>\n",
       "  </tbody>\n",
       "</table>\n",
       "</div>"
      ],
      "text/plain": [
       "  GeneName UniprotAC                                        ProteinName  \\\n",
       "0    ACTA1    P68133                      Actin, alpha skeletal muscle    \n",
       "1    ACTC1    P68032                     Actin, alpha cardiac muscle 1    \n",
       "2    ADRB1    P08588                        Beta-1 adrenergic receptor    \n",
       "3    ADRB2    P07550                        Beta-2 adrenergic receptor    \n",
       "4      FAS    P25445  Tumor necrosis factor receptor superfamily mem...   \n",
       "\n",
       "   GeneId  \n",
       "0      58  \n",
       "1      70  \n",
       "2     153  \n",
       "3     154  \n",
       "4     355  "
      ]
     },
     "execution_count": 33,
     "metadata": {},
     "output_type": "execute_result"
    }
   ],
   "source": [
    "uniprot_DF[['GeneName','UniprotAC', 'ProteinName', 'GeneId']].head(5)"
   ]
  },
  {
   "cell_type": "markdown",
   "metadata": {},
   "source": [
    "## 1.2) Collect interaction data\n",
    "\n",
    "a) For each seed gene, collect all binary protein interactions from the *Biogrid Human*."
   ]
  },
  {
   "cell_type": "code",
   "execution_count": 39,
   "metadata": {
    "scrolled": true
   },
   "outputs": [
    {
     "name": "stderr",
     "output_type": "stream",
     "text": [
      "C:\\Users\\clara\\anaconda3\\Lib\\site-packages\\IPython\\core\\interactiveshell.py:3071: DtypeWarning: Columns (1,18) have mixed types.Specify dtype option on import or set low_memory=False.\n",
      "  has_raised = await self.run_ast_nodes(code_ast.body, cell_name,\n"
     ]
    },
    {
     "data": {
      "text/html": [
       "<div>\n",
       "<style scoped>\n",
       "    .dataframe tbody tr th:only-of-type {\n",
       "        vertical-align: middle;\n",
       "    }\n",
       "\n",
       "    .dataframe tbody tr th {\n",
       "        vertical-align: top;\n",
       "    }\n",
       "\n",
       "    .dataframe thead th {\n",
       "        text-align: right;\n",
       "    }\n",
       "</style>\n",
       "<table border=\"1\" class=\"dataframe\">\n",
       "  <thead>\n",
       "    <tr style=\"text-align: right;\">\n",
       "      <th></th>\n",
       "      <th>#BioGRID Interaction ID</th>\n",
       "      <th>Entrez Gene Interactor A</th>\n",
       "      <th>Entrez Gene Interactor B</th>\n",
       "      <th>BioGRID ID Interactor A</th>\n",
       "      <th>BioGRID ID Interactor B</th>\n",
       "      <th>Systematic Name Interactor A</th>\n",
       "      <th>Systematic Name Interactor B</th>\n",
       "      <th>Official Symbol Interactor A</th>\n",
       "      <th>Official Symbol Interactor B</th>\n",
       "      <th>Synonyms Interactor A</th>\n",
       "      <th>...</th>\n",
       "      <th>TREMBL Accessions Interactor B</th>\n",
       "      <th>REFSEQ Accessions Interactor B</th>\n",
       "      <th>Ontology Term IDs</th>\n",
       "      <th>Ontology Term Names</th>\n",
       "      <th>Ontology Term Categories</th>\n",
       "      <th>Ontology Term Qualifier IDs</th>\n",
       "      <th>Ontology Term Qualifier Names</th>\n",
       "      <th>Ontology Term Types</th>\n",
       "      <th>Organism Name Interactor A</th>\n",
       "      <th>Organism Name Interactor B</th>\n",
       "    </tr>\n",
       "  </thead>\n",
       "  <tbody>\n",
       "    <tr>\n",
       "      <th>0</th>\n",
       "      <td>103</td>\n",
       "      <td>6416</td>\n",
       "      <td>2318</td>\n",
       "      <td>112315</td>\n",
       "      <td>108607</td>\n",
       "      <td>-</td>\n",
       "      <td>-</td>\n",
       "      <td>MAP2K4</td>\n",
       "      <td>FLNC</td>\n",
       "      <td>JNKK|JNKK1|MAPKK4|MEK4|MKK4|PRKMK4|SAPKK-1|SAP...</td>\n",
       "      <td>...</td>\n",
       "      <td>Q59H94</td>\n",
       "      <td>NP_001120959|NP_001449</td>\n",
       "      <td>-</td>\n",
       "      <td>-</td>\n",
       "      <td>-</td>\n",
       "      <td>-</td>\n",
       "      <td>-</td>\n",
       "      <td>-</td>\n",
       "      <td>Homo sapiens</td>\n",
       "      <td>Homo sapiens</td>\n",
       "    </tr>\n",
       "    <tr>\n",
       "      <th>1</th>\n",
       "      <td>117</td>\n",
       "      <td>84665</td>\n",
       "      <td>88</td>\n",
       "      <td>124185</td>\n",
       "      <td>106603</td>\n",
       "      <td>-</td>\n",
       "      <td>-</td>\n",
       "      <td>MYPN</td>\n",
       "      <td>ACTN2</td>\n",
       "      <td>CMD1DD|CMH22|MYOP|RCM4</td>\n",
       "      <td>...</td>\n",
       "      <td>Q59FD9|F6THM6</td>\n",
       "      <td>NP_001094|NP_001265272|NP_001265273</td>\n",
       "      <td>-</td>\n",
       "      <td>-</td>\n",
       "      <td>-</td>\n",
       "      <td>-</td>\n",
       "      <td>-</td>\n",
       "      <td>-</td>\n",
       "      <td>Homo sapiens</td>\n",
       "      <td>Homo sapiens</td>\n",
       "    </tr>\n",
       "    <tr>\n",
       "      <th>2</th>\n",
       "      <td>183</td>\n",
       "      <td>90</td>\n",
       "      <td>2339</td>\n",
       "      <td>106605</td>\n",
       "      <td>108625</td>\n",
       "      <td>-</td>\n",
       "      <td>-</td>\n",
       "      <td>ACVR1</td>\n",
       "      <td>FNTA</td>\n",
       "      <td>ACTRI|ACVR1A|ACVRLK2|ALK2|FOP|SKR1|TSRI</td>\n",
       "      <td>...</td>\n",
       "      <td>-</td>\n",
       "      <td>NP_002018</td>\n",
       "      <td>-</td>\n",
       "      <td>-</td>\n",
       "      <td>-</td>\n",
       "      <td>-</td>\n",
       "      <td>-</td>\n",
       "      <td>-</td>\n",
       "      <td>Homo sapiens</td>\n",
       "      <td>Homo sapiens</td>\n",
       "    </tr>\n",
       "    <tr>\n",
       "      <th>3</th>\n",
       "      <td>278</td>\n",
       "      <td>2624</td>\n",
       "      <td>5371</td>\n",
       "      <td>108894</td>\n",
       "      <td>111384</td>\n",
       "      <td>-</td>\n",
       "      <td>-</td>\n",
       "      <td>GATA2</td>\n",
       "      <td>PML</td>\n",
       "      <td>DCML|IMD21|MONOMAC|NFE1B</td>\n",
       "      <td>...</td>\n",
       "      <td>-</td>\n",
       "      <td>NP_150250|NP_150253|NP_150252|NP_150247|NP_150...</td>\n",
       "      <td>-</td>\n",
       "      <td>-</td>\n",
       "      <td>-</td>\n",
       "      <td>-</td>\n",
       "      <td>-</td>\n",
       "      <td>-</td>\n",
       "      <td>Homo sapiens</td>\n",
       "      <td>Homo sapiens</td>\n",
       "    </tr>\n",
       "    <tr>\n",
       "      <th>4</th>\n",
       "      <td>418</td>\n",
       "      <td>6118</td>\n",
       "      <td>6774</td>\n",
       "      <td>112038</td>\n",
       "      <td>112651</td>\n",
       "      <td>RP4-547C9.3</td>\n",
       "      <td>-</td>\n",
       "      <td>RPA2</td>\n",
       "      <td>STAT3</td>\n",
       "      <td>REPA2|RP-A p32|RP-A p34|RPA32</td>\n",
       "      <td>...</td>\n",
       "      <td>-</td>\n",
       "      <td>NP_644805|NP_003141|NP_001356447|NP_001356443|...</td>\n",
       "      <td>-</td>\n",
       "      <td>-</td>\n",
       "      <td>-</td>\n",
       "      <td>-</td>\n",
       "      <td>-</td>\n",
       "      <td>-</td>\n",
       "      <td>Homo sapiens</td>\n",
       "      <td>Homo sapiens</td>\n",
       "    </tr>\n",
       "  </tbody>\n",
       "</table>\n",
       "<p>5 rows × 37 columns</p>\n",
       "</div>"
      ],
      "text/plain": [
       "   #BioGRID Interaction ID Entrez Gene Interactor A  Entrez Gene Interactor B  \\\n",
       "0                      103                     6416                      2318   \n",
       "1                      117                    84665                        88   \n",
       "2                      183                       90                      2339   \n",
       "3                      278                     2624                      5371   \n",
       "4                      418                     6118                      6774   \n",
       "\n",
       "   BioGRID ID Interactor A  BioGRID ID Interactor B  \\\n",
       "0                   112315                   108607   \n",
       "1                   124185                   106603   \n",
       "2                   106605                   108625   \n",
       "3                   108894                   111384   \n",
       "4                   112038                   112651   \n",
       "\n",
       "  Systematic Name Interactor A Systematic Name Interactor B  \\\n",
       "0                            -                            -   \n",
       "1                            -                            -   \n",
       "2                            -                            -   \n",
       "3                            -                            -   \n",
       "4                  RP4-547C9.3                            -   \n",
       "\n",
       "  Official Symbol Interactor A Official Symbol Interactor B  \\\n",
       "0                       MAP2K4                         FLNC   \n",
       "1                         MYPN                        ACTN2   \n",
       "2                        ACVR1                         FNTA   \n",
       "3                        GATA2                          PML   \n",
       "4                         RPA2                        STAT3   \n",
       "\n",
       "                               Synonyms Interactor A  ...  \\\n",
       "0  JNKK|JNKK1|MAPKK4|MEK4|MKK4|PRKMK4|SAPKK-1|SAP...  ...   \n",
       "1                             CMD1DD|CMH22|MYOP|RCM4  ...   \n",
       "2            ACTRI|ACVR1A|ACVRLK2|ALK2|FOP|SKR1|TSRI  ...   \n",
       "3                           DCML|IMD21|MONOMAC|NFE1B  ...   \n",
       "4                      REPA2|RP-A p32|RP-A p34|RPA32  ...   \n",
       "\n",
       "  TREMBL Accessions Interactor B  \\\n",
       "0                         Q59H94   \n",
       "1                  Q59FD9|F6THM6   \n",
       "2                              -   \n",
       "3                              -   \n",
       "4                              -   \n",
       "\n",
       "                      REFSEQ Accessions Interactor B Ontology Term IDs  \\\n",
       "0                             NP_001120959|NP_001449                 -   \n",
       "1                NP_001094|NP_001265272|NP_001265273                 -   \n",
       "2                                          NP_002018                 -   \n",
       "3  NP_150250|NP_150253|NP_150252|NP_150247|NP_150...                 -   \n",
       "4  NP_644805|NP_003141|NP_001356447|NP_001356443|...                 -   \n",
       "\n",
       "  Ontology Term Names Ontology Term Categories  Ontology Term Qualifier IDs  \\\n",
       "0                   -                        -                            -   \n",
       "1                   -                        -                            -   \n",
       "2                   -                        -                            -   \n",
       "3                   -                        -                            -   \n",
       "4                   -                        -                            -   \n",
       "\n",
       "   Ontology Term Qualifier Names Ontology Term Types  \\\n",
       "0                              -                   -   \n",
       "1                              -                   -   \n",
       "2                              -                   -   \n",
       "3                              -                   -   \n",
       "4                              -                   -   \n",
       "\n",
       "  Organism Name Interactor A Organism Name Interactor B  \n",
       "0               Homo sapiens               Homo sapiens  \n",
       "1               Homo sapiens               Homo sapiens  \n",
       "2               Homo sapiens               Homo sapiens  \n",
       "3               Homo sapiens               Homo sapiens  \n",
       "4               Homo sapiens               Homo sapiens  \n",
       "\n",
       "[5 rows x 37 columns]"
      ]
     },
     "execution_count": 39,
     "metadata": {},
     "output_type": "execute_result"
    }
   ],
   "source": [
    "biogrid_path = root + \"BIOGRID.tab3.txt\"\n",
    "biogrid_full_DF = pd.read_csv(biogrid_path, sep = '\\t')\n",
    "biogrid_full_DF.head()"
   ]
  },
  {
   "cell_type": "code",
   "execution_count": 66,
   "metadata": {},
   "outputs": [],
   "source": [
    "biogrid_seed_genes_interactions = biogrid_full_DF[((biogrid_full_DF['Official Symbol Interactor A'].isin(gene_symbols_list)) | (biogrid_full_DF['Official Symbol Interactor B'].isin(gene_symbols_list)) ) & (biogrid_full_DF['Organism Name Interactor A'] == 'Homo sapiens') & (biogrid_full_DF['Organism Name Interactor B'] == 'Homo sapiens')]\n",
    "\n",
    "not_seed_genes = set(biogrid_seed_genes_interactions['Official Symbol Interactor A']).union(set(biogrid_seed_genes_interactions['Official Symbol Interactor B']))\n",
    "not_seed_genes.difference_update(gene_symbols_list)"
   ]
  },
  {
   "cell_type": "code",
   "execution_count": 70,
   "metadata": {},
   "outputs": [
    {
     "data": {
      "text/plain": [
       "(12075, 37)"
      ]
     },
     "execution_count": 70,
     "metadata": {},
     "output_type": "execute_result"
    }
   ],
   "source": [
    "biogrid_seed_genes_interactions.shape"
   ]
  },
  {
   "cell_type": "code",
   "execution_count": 67,
   "metadata": {},
   "outputs": [
    {
     "data": {
      "text/plain": [
       "4885"
      ]
     },
     "execution_count": 67,
     "metadata": {},
     "output_type": "execute_result"
    }
   ],
   "source": [
    "len(not_seed_genes)"
   ]
  },
  {
   "cell_type": "markdown",
   "metadata": {},
   "source": [
    "Select the interactions among the non-seed genes from the full dataset"
   ]
  },
  {
   "cell_type": "code",
   "execution_count": 69,
   "metadata": {},
   "outputs": [
    {
     "data": {
      "text/plain": [
       "(539688, 37)"
      ]
     },
     "execution_count": 69,
     "metadata": {},
     "output_type": "execute_result"
    }
   ],
   "source": [
    "biogrid_non_seed_genes_interactions = biogrid_full_DF[((biogrid_full_DF['Official Symbol Interactor A'].isin(not_seed_genes)) | (biogrid_full_DF['Official Symbol Interactor B'].isin(not_seed_genes)) ) & (biogrid_full_DF['Organism Name Interactor A'] == 'Homo sapiens') & (biogrid_full_DF['Organism Name Interactor B'] == 'Homo sapiens')]\n",
    "biogrid_non_seed_genes_interactions.shape"
   ]
  },
  {
   "cell_type": "code",
   "execution_count": null,
   "metadata": {},
   "outputs": [],
   "source": []
  }
 ],
 "metadata": {
  "kernelspec": {
   "display_name": "Python 3",
   "language": "python",
   "name": "python3"
  },
  "language_info": {
   "codemirror_mode": {
    "name": "ipython",
    "version": 3
   },
   "file_extension": ".py",
   "mimetype": "text/x-python",
   "name": "python",
   "nbconvert_exporter": "python",
   "pygments_lexer": "ipython3",
   "version": "3.8.3"
  }
 },
 "nbformat": 4,
 "nbformat_minor": 4
}
