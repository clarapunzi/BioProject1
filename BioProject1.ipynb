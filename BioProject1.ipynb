{
 "cells": [
  {
   "cell_type": "code",
   "execution_count": 1,
   "metadata": {},
   "outputs": [],
   "source": [
    "import pandas as pd\n",
    "import re\n",
    "import networkx as nx\n",
    "import csv\n",
    "import matplotlib.pyplot as plt\n",
    "import numpy as np"
   ]
  },
  {
   "cell_type": "markdown",
   "metadata": {},
   "source": [
    "## 1.1) Explore information sources and compile the seed gene list:\n",
    "a) Get the list of human genes (i.e. the **seed list**) involved in the disease **Cardiomyopathy, Dilated** from the dataset *“Curated gene-disease associations”* (from *https://www.disgenet.org/downloads*)"
   ]
  },
  {
   "cell_type": "code",
   "execution_count": 2,
   "metadata": {},
   "outputs": [],
   "source": [
    "root = \"C:/Users/clara/Documents/Bio/\"\n",
    "path = \"C:/Users/clara/Documents/Bio/curated_gene_disease_associations.tsv\"\n",
    "curated_gene_desease_association_DF = pd.read_csv(path, sep = '\\t', compression = 'infer')"
   ]
  },
  {
   "cell_type": "code",
   "execution_count": 3,
   "metadata": {},
   "outputs": [
    {
     "name": "stdout",
     "output_type": "stream",
     "text": [
      "Number of detected genes involved in the desease \"Cardiomyopathy, Dilated\":  48\n"
     ]
    },
    {
     "data": {
      "text/html": [
       "<div>\n",
       "<style scoped>\n",
       "    .dataframe tbody tr th:only-of-type {\n",
       "        vertical-align: middle;\n",
       "    }\n",
       "\n",
       "    .dataframe tbody tr th {\n",
       "        vertical-align: top;\n",
       "    }\n",
       "\n",
       "    .dataframe thead th {\n",
       "        text-align: right;\n",
       "    }\n",
       "</style>\n",
       "<table border=\"1\" class=\"dataframe\">\n",
       "  <thead>\n",
       "    <tr style=\"text-align: right;\">\n",
       "      <th></th>\n",
       "      <th>geneId</th>\n",
       "      <th>geneSymbol</th>\n",
       "      <th>DSI</th>\n",
       "      <th>DPI</th>\n",
       "      <th>diseaseId</th>\n",
       "      <th>diseaseName</th>\n",
       "      <th>diseaseType</th>\n",
       "      <th>diseaseClass</th>\n",
       "      <th>diseaseSemanticType</th>\n",
       "      <th>score</th>\n",
       "      <th>EI</th>\n",
       "      <th>YearInitial</th>\n",
       "      <th>YearFinal</th>\n",
       "      <th>NofPmids</th>\n",
       "      <th>NofSnps</th>\n",
       "      <th>source</th>\n",
       "    </tr>\n",
       "  </thead>\n",
       "  <tbody>\n",
       "    <tr>\n",
       "      <th>502</th>\n",
       "      <td>58</td>\n",
       "      <td>ACTA1</td>\n",
       "      <td>0.540</td>\n",
       "      <td>0.769</td>\n",
       "      <td>C0007193</td>\n",
       "      <td>Cardiomyopathy, Dilated</td>\n",
       "      <td>group</td>\n",
       "      <td>C14</td>\n",
       "      <td>Disease or Syndrome</td>\n",
       "      <td>0.40</td>\n",
       "      <td>1.0</td>\n",
       "      <td>2006.0</td>\n",
       "      <td>2013.0</td>\n",
       "      <td>2</td>\n",
       "      <td>0</td>\n",
       "      <td>GENOMICS_ENGLAND</td>\n",
       "    </tr>\n",
       "    <tr>\n",
       "      <th>610</th>\n",
       "      <td>70</td>\n",
       "      <td>ACTC1</td>\n",
       "      <td>0.610</td>\n",
       "      <td>0.538</td>\n",
       "      <td>C0007193</td>\n",
       "      <td>Cardiomyopathy, Dilated</td>\n",
       "      <td>group</td>\n",
       "      <td>C14</td>\n",
       "      <td>Disease or Syndrome</td>\n",
       "      <td>0.65</td>\n",
       "      <td>1.0</td>\n",
       "      <td>2006.0</td>\n",
       "      <td>2019.0</td>\n",
       "      <td>0</td>\n",
       "      <td>3</td>\n",
       "      <td>CTD_human</td>\n",
       "    </tr>\n",
       "    <tr>\n",
       "      <th>1414</th>\n",
       "      <td>153</td>\n",
       "      <td>ADRB1</td>\n",
       "      <td>0.555</td>\n",
       "      <td>0.769</td>\n",
       "      <td>C0007193</td>\n",
       "      <td>Cardiomyopathy, Dilated</td>\n",
       "      <td>group</td>\n",
       "      <td>C14</td>\n",
       "      <td>Disease or Syndrome</td>\n",
       "      <td>0.58</td>\n",
       "      <td>1.0</td>\n",
       "      <td>1998.0</td>\n",
       "      <td>2019.0</td>\n",
       "      <td>1</td>\n",
       "      <td>0</td>\n",
       "      <td>CTD_human</td>\n",
       "    </tr>\n",
       "    <tr>\n",
       "      <th>1444</th>\n",
       "      <td>154</td>\n",
       "      <td>ADRB2</td>\n",
       "      <td>0.442</td>\n",
       "      <td>0.923</td>\n",
       "      <td>C0007193</td>\n",
       "      <td>Cardiomyopathy, Dilated</td>\n",
       "      <td>group</td>\n",
       "      <td>C14</td>\n",
       "      <td>Disease or Syndrome</td>\n",
       "      <td>0.51</td>\n",
       "      <td>1.0</td>\n",
       "      <td>2002.0</td>\n",
       "      <td>2008.0</td>\n",
       "      <td>1</td>\n",
       "      <td>0</td>\n",
       "      <td>CTD_human</td>\n",
       "    </tr>\n",
       "    <tr>\n",
       "      <th>3663</th>\n",
       "      <td>355</td>\n",
       "      <td>FAS</td>\n",
       "      <td>0.372</td>\n",
       "      <td>0.923</td>\n",
       "      <td>C0007193</td>\n",
       "      <td>Cardiomyopathy, Dilated</td>\n",
       "      <td>group</td>\n",
       "      <td>C14</td>\n",
       "      <td>Disease or Syndrome</td>\n",
       "      <td>0.51</td>\n",
       "      <td>1.0</td>\n",
       "      <td>1999.0</td>\n",
       "      <td>2007.0</td>\n",
       "      <td>1</td>\n",
       "      <td>0</td>\n",
       "      <td>CTD_human</td>\n",
       "    </tr>\n",
       "  </tbody>\n",
       "</table>\n",
       "</div>"
      ],
      "text/plain": [
       "      geneId geneSymbol    DSI    DPI diseaseId              diseaseName  \\\n",
       "502       58      ACTA1  0.540  0.769  C0007193  Cardiomyopathy, Dilated   \n",
       "610       70      ACTC1  0.610  0.538  C0007193  Cardiomyopathy, Dilated   \n",
       "1414     153      ADRB1  0.555  0.769  C0007193  Cardiomyopathy, Dilated   \n",
       "1444     154      ADRB2  0.442  0.923  C0007193  Cardiomyopathy, Dilated   \n",
       "3663     355        FAS  0.372  0.923  C0007193  Cardiomyopathy, Dilated   \n",
       "\n",
       "     diseaseType diseaseClass  diseaseSemanticType  score   EI  YearInitial  \\\n",
       "502        group          C14  Disease or Syndrome   0.40  1.0       2006.0   \n",
       "610        group          C14  Disease or Syndrome   0.65  1.0       2006.0   \n",
       "1414       group          C14  Disease or Syndrome   0.58  1.0       1998.0   \n",
       "1444       group          C14  Disease or Syndrome   0.51  1.0       2002.0   \n",
       "3663       group          C14  Disease or Syndrome   0.51  1.0       1999.0   \n",
       "\n",
       "      YearFinal  NofPmids  NofSnps            source  \n",
       "502      2013.0         2        0  GENOMICS_ENGLAND  \n",
       "610      2019.0         0        3         CTD_human  \n",
       "1414     2019.0         1        0         CTD_human  \n",
       "1444     2008.0         1        0         CTD_human  \n",
       "3663     2007.0         1        0         CTD_human  "
      ]
     },
     "execution_count": 3,
     "metadata": {},
     "output_type": "execute_result"
    }
   ],
   "source": [
    "cardio_DF = curated_gene_desease_association_DF.loc[curated_gene_desease_association_DF['diseaseId'] == 'C0007193']\n",
    "print('Number of detected genes involved in the desease \"Cardiomyopathy, Dilated\": ', len(cardio_DF))\n",
    "cardio_DF.head(5)"
   ]
  },
  {
   "cell_type": "code",
   "execution_count": 4,
   "metadata": {},
   "outputs": [
    {
     "name": "stdout",
     "output_type": "stream",
     "text": [
      "List of Entrez genes:\n",
      " 58 70 153 154 355 356 472 948 1440 1482 1499 1756 1956 2194 2876 3688 4000 4306 4624 4625 4878 4879 5318 5663 5664 5879 5894 5973 6331 6389 6443 6462 6584 6648 6934 7112 7137 7139 7273 7350 7840 8313 10060 55759 64651 137735 150094 347273\n"
     ]
    }
   ],
   "source": [
    "seed_list = list(cardio_DF['geneId'])\n",
    "print(\"List of Entrez genes:\\n\", *seed_list)"
   ]
  },
  {
   "cell_type": "code",
   "execution_count": 30,
   "metadata": {},
   "outputs": [
    {
     "name": "stdout",
     "output_type": "stream",
     "text": [
      "List of gene symbols:\n",
      " ACTA1 ACTC1 ADRB1 ADRB2 FAS FASLG ATM CD36 CSF3 NKX2-5 CTNNB1 DMD EGFR FASN GPX1 ITGB1 LMNA NR3C2 MYH6 MYH7 NPPA NPPB PKP2 PSEN1 PSEN2 RAC1 RAF1 RENBP SCN5A SDHA SGCB SHBG SLC22A5 SOD2 TCF7L2 TMPO TNNI3 TNNT2 TTN UCP1 ALMS1 AXIN2 ABCC9 WDR12 CSRNP1 ABRA SIK1 CAVIN4\n"
     ]
    }
   ],
   "source": [
    "print(\"List of gene symbols:\\n\", *list(cardio_DF['geneSymbol']))\n",
    "seed_genes_symbols = list(cardio_DF['geneSymbol'])"
   ]
  },
  {
   "cell_type": "markdown",
   "metadata": {},
   "source": [
    "b) Check if gene symbols for all genes in the seed gene list are updated and approved on the *HGNC* website (from *https://www.genenames.org/tools/multi-symbol-checker/*)"
   ]
  },
  {
   "cell_type": "code",
   "execution_count": 6,
   "metadata": {},
   "outputs": [],
   "source": [
    "# Upload this csv in the multi-symbol checker tool of the HGNC: \n",
    "cardio_DF['geneSymbol'].to_csv('gene_symbols.csv', index = False, header = False, line_terminator = ',')"
   ]
  },
  {
   "cell_type": "code",
   "execution_count": 7,
   "metadata": {},
   "outputs": [],
   "source": [
    "cardio_DF['geneId'].to_csv('geneId.csv', index = False, header = False, line_terminator = ',')"
   ]
  },
  {
   "cell_type": "markdown",
   "metadata": {},
   "source": [
    "The multi-symbol checker on the *HGNC* database reports that all the gene symbols in our seed list are updated and approved. Three of them match both an approved and an alias symbol, namely ***FAS***, ***RAC1*** and ***RAF1***"
   ]
  },
  {
   "cell_type": "markdown",
   "metadata": {},
   "source": [
    "For each protein in our seed list we want to collect the following information from the *Uniprot* website:\n",
    "* official (primary) **gene symbol** --> *Gene names (primary)*\n",
    "* **Uniprot AC**, alphanumeric ‘accession number’ (a.k.a. ’Uniprot entry’) --> *Entry*\n",
    "* **protein name** (the main one only, do not report the aliases)\n",
    "* **Entrez Gene ID** (a.k.a. ‘GeneID’) --> *geneID* from disgenet\n",
    "* very brief description of its function (keep it very short, i.e. max 20 words)\n",
    "* notes related to the above information, if any and if relevant"
   ]
  },
  {
   "cell_type": "markdown",
   "metadata": {},
   "source": [
    "**NOTE**: With regards to the gene symbol **TMPO** only the entry corresponding to the protein *Thymopoietin, isoforms alpha* (P42166) has been kept since its information on the *HGNG* only refer to this one and not to the isoform beta/gamma"
   ]
  },
  {
   "cell_type": "code",
   "execution_count": 8,
   "metadata": {},
   "outputs": [],
   "source": [
    "path = root + \"uniprot-list-with-ids.csv\"\n",
    "uniprot_DF = pd.read_csv(path, sep = '\\t')\n",
    "uniprot_DF['ProteinName'] = uniprot_DF['ProteinName'].str.split(r\"\\(|\\[\").str[0]"
   ]
  },
  {
   "cell_type": "code",
   "execution_count": 9,
   "metadata": {},
   "outputs": [
    {
     "data": {
      "text/html": [
       "<div>\n",
       "<style scoped>\n",
       "    .dataframe tbody tr th:only-of-type {\n",
       "        vertical-align: middle;\n",
       "    }\n",
       "\n",
       "    .dataframe tbody tr th {\n",
       "        vertical-align: top;\n",
       "    }\n",
       "\n",
       "    .dataframe thead th {\n",
       "        text-align: right;\n",
       "    }\n",
       "</style>\n",
       "<table border=\"1\" class=\"dataframe\">\n",
       "  <thead>\n",
       "    <tr style=\"text-align: right;\">\n",
       "      <th></th>\n",
       "      <th>GeneName</th>\n",
       "      <th>UniprotAC</th>\n",
       "      <th>ProteinName</th>\n",
       "      <th>GeneId</th>\n",
       "    </tr>\n",
       "  </thead>\n",
       "  <tbody>\n",
       "    <tr>\n",
       "      <th>0</th>\n",
       "      <td>ACTA1</td>\n",
       "      <td>P68133</td>\n",
       "      <td>Actin, alpha skeletal muscle</td>\n",
       "      <td>58</td>\n",
       "    </tr>\n",
       "    <tr>\n",
       "      <th>1</th>\n",
       "      <td>ACTC1</td>\n",
       "      <td>P68032</td>\n",
       "      <td>Actin, alpha cardiac muscle 1</td>\n",
       "      <td>70</td>\n",
       "    </tr>\n",
       "    <tr>\n",
       "      <th>2</th>\n",
       "      <td>ADRB1</td>\n",
       "      <td>P08588</td>\n",
       "      <td>Beta-1 adrenergic receptor</td>\n",
       "      <td>153</td>\n",
       "    </tr>\n",
       "    <tr>\n",
       "      <th>3</th>\n",
       "      <td>ADRB2</td>\n",
       "      <td>P07550</td>\n",
       "      <td>Beta-2 adrenergic receptor</td>\n",
       "      <td>154</td>\n",
       "    </tr>\n",
       "    <tr>\n",
       "      <th>4</th>\n",
       "      <td>FAS</td>\n",
       "      <td>P25445</td>\n",
       "      <td>Tumor necrosis factor receptor superfamily mem...</td>\n",
       "      <td>355</td>\n",
       "    </tr>\n",
       "  </tbody>\n",
       "</table>\n",
       "</div>"
      ],
      "text/plain": [
       "  GeneName UniprotAC                                        ProteinName  \\\n",
       "0    ACTA1    P68133                      Actin, alpha skeletal muscle    \n",
       "1    ACTC1    P68032                     Actin, alpha cardiac muscle 1    \n",
       "2    ADRB1    P08588                        Beta-1 adrenergic receptor    \n",
       "3    ADRB2    P07550                        Beta-2 adrenergic receptor    \n",
       "4      FAS    P25445  Tumor necrosis factor receptor superfamily mem...   \n",
       "\n",
       "   GeneId  \n",
       "0      58  \n",
       "1      70  \n",
       "2     153  \n",
       "3     154  \n",
       "4     355  "
      ]
     },
     "execution_count": 9,
     "metadata": {},
     "output_type": "execute_result"
    }
   ],
   "source": [
    "uniprot_DF[['GeneName','UniprotAC', 'ProteinName', 'GeneId']].head(5)"
   ]
  },
  {
   "cell_type": "markdown",
   "metadata": {},
   "source": [
    "## 1.2) Collect interaction data\n",
    "\n",
    "a) For each seed gene, collect all binary protein interactions from the *Biogrid Human*."
   ]
  },
  {
   "cell_type": "code",
   "execution_count": 10,
   "metadata": {
    "scrolled": false
   },
   "outputs": [
    {
     "name": "stderr",
     "output_type": "stream",
     "text": [
      "C:\\Users\\clara\\anaconda3\\Lib\\site-packages\\IPython\\core\\interactiveshell.py:3071: DtypeWarning: Columns (19,29,30,31,32,33,34) have mixed types.Specify dtype option on import or set low_memory=False.\n",
      "  has_raised = await self.run_ast_nodes(code_ast.body, cell_name,\n"
     ]
    },
    {
     "data": {
      "text/html": [
       "<div>\n",
       "<style scoped>\n",
       "    .dataframe tbody tr th:only-of-type {\n",
       "        vertical-align: middle;\n",
       "    }\n",
       "\n",
       "    .dataframe tbody tr th {\n",
       "        vertical-align: top;\n",
       "    }\n",
       "\n",
       "    .dataframe thead th {\n",
       "        text-align: right;\n",
       "    }\n",
       "</style>\n",
       "<table border=\"1\" class=\"dataframe\">\n",
       "  <thead>\n",
       "    <tr style=\"text-align: right;\">\n",
       "      <th></th>\n",
       "      <th>#BioGRID Interaction ID</th>\n",
       "      <th>Entrez Gene Interactor A</th>\n",
       "      <th>Entrez Gene Interactor B</th>\n",
       "      <th>BioGRID ID Interactor A</th>\n",
       "      <th>BioGRID ID Interactor B</th>\n",
       "      <th>Systematic Name Interactor A</th>\n",
       "      <th>Systematic Name Interactor B</th>\n",
       "      <th>Official Symbol Interactor A</th>\n",
       "      <th>Official Symbol Interactor B</th>\n",
       "      <th>Synonyms Interactor A</th>\n",
       "      <th>...</th>\n",
       "      <th>TREMBL Accessions Interactor B</th>\n",
       "      <th>REFSEQ Accessions Interactor B</th>\n",
       "      <th>Ontology Term IDs</th>\n",
       "      <th>Ontology Term Names</th>\n",
       "      <th>Ontology Term Categories</th>\n",
       "      <th>Ontology Term Qualifier IDs</th>\n",
       "      <th>Ontology Term Qualifier Names</th>\n",
       "      <th>Ontology Term Types</th>\n",
       "      <th>Organism Name Interactor A</th>\n",
       "      <th>Organism Name Interactor B</th>\n",
       "    </tr>\n",
       "  </thead>\n",
       "  <tbody>\n",
       "    <tr>\n",
       "      <th>0</th>\n",
       "      <td>103</td>\n",
       "      <td>6416.0</td>\n",
       "      <td>2318</td>\n",
       "      <td>112315</td>\n",
       "      <td>108607</td>\n",
       "      <td>NaN</td>\n",
       "      <td>NaN</td>\n",
       "      <td>MAP2K4</td>\n",
       "      <td>FLNC</td>\n",
       "      <td>JNKK|JNKK1|MAPKK4|MEK4|MKK4|PRKMK4|SAPKK-1|SAP...</td>\n",
       "      <td>...</td>\n",
       "      <td>Q59H94</td>\n",
       "      <td>NP_001120959|NP_001449</td>\n",
       "      <td>NaN</td>\n",
       "      <td>NaN</td>\n",
       "      <td>NaN</td>\n",
       "      <td>NaN</td>\n",
       "      <td>NaN</td>\n",
       "      <td>NaN</td>\n",
       "      <td>Homo sapiens</td>\n",
       "      <td>Homo sapiens</td>\n",
       "    </tr>\n",
       "    <tr>\n",
       "      <th>1</th>\n",
       "      <td>117</td>\n",
       "      <td>84665.0</td>\n",
       "      <td>88</td>\n",
       "      <td>124185</td>\n",
       "      <td>106603</td>\n",
       "      <td>NaN</td>\n",
       "      <td>NaN</td>\n",
       "      <td>MYPN</td>\n",
       "      <td>ACTN2</td>\n",
       "      <td>CMD1DD|CMH22|MYOP|RCM4</td>\n",
       "      <td>...</td>\n",
       "      <td>Q59FD9|F6THM6</td>\n",
       "      <td>NP_001094|NP_001265272|NP_001265273</td>\n",
       "      <td>NaN</td>\n",
       "      <td>NaN</td>\n",
       "      <td>NaN</td>\n",
       "      <td>NaN</td>\n",
       "      <td>NaN</td>\n",
       "      <td>NaN</td>\n",
       "      <td>Homo sapiens</td>\n",
       "      <td>Homo sapiens</td>\n",
       "    </tr>\n",
       "    <tr>\n",
       "      <th>2</th>\n",
       "      <td>183</td>\n",
       "      <td>90.0</td>\n",
       "      <td>2339</td>\n",
       "      <td>106605</td>\n",
       "      <td>108625</td>\n",
       "      <td>NaN</td>\n",
       "      <td>NaN</td>\n",
       "      <td>ACVR1</td>\n",
       "      <td>FNTA</td>\n",
       "      <td>ACTRI|ACVR1A|ACVRLK2|ALK2|FOP|SKR1|TSRI</td>\n",
       "      <td>...</td>\n",
       "      <td>NaN</td>\n",
       "      <td>NP_002018</td>\n",
       "      <td>NaN</td>\n",
       "      <td>NaN</td>\n",
       "      <td>NaN</td>\n",
       "      <td>NaN</td>\n",
       "      <td>NaN</td>\n",
       "      <td>NaN</td>\n",
       "      <td>Homo sapiens</td>\n",
       "      <td>Homo sapiens</td>\n",
       "    </tr>\n",
       "    <tr>\n",
       "      <th>3</th>\n",
       "      <td>278</td>\n",
       "      <td>2624.0</td>\n",
       "      <td>5371</td>\n",
       "      <td>108894</td>\n",
       "      <td>111384</td>\n",
       "      <td>NaN</td>\n",
       "      <td>NaN</td>\n",
       "      <td>GATA2</td>\n",
       "      <td>PML</td>\n",
       "      <td>DCML|IMD21|MONOMAC|NFE1B</td>\n",
       "      <td>...</td>\n",
       "      <td>NaN</td>\n",
       "      <td>NP_150250|NP_150253|NP_150252|NP_150247|NP_150...</td>\n",
       "      <td>NaN</td>\n",
       "      <td>NaN</td>\n",
       "      <td>NaN</td>\n",
       "      <td>NaN</td>\n",
       "      <td>NaN</td>\n",
       "      <td>NaN</td>\n",
       "      <td>Homo sapiens</td>\n",
       "      <td>Homo sapiens</td>\n",
       "    </tr>\n",
       "    <tr>\n",
       "      <th>4</th>\n",
       "      <td>418</td>\n",
       "      <td>6118.0</td>\n",
       "      <td>6774</td>\n",
       "      <td>112038</td>\n",
       "      <td>112651</td>\n",
       "      <td>RP4-547C9.3</td>\n",
       "      <td>NaN</td>\n",
       "      <td>RPA2</td>\n",
       "      <td>STAT3</td>\n",
       "      <td>REPA2|RP-A p32|RP-A p34|RPA32</td>\n",
       "      <td>...</td>\n",
       "      <td>NaN</td>\n",
       "      <td>NP_644805|NP_003141|NP_001356447|NP_001356443|...</td>\n",
       "      <td>NaN</td>\n",
       "      <td>NaN</td>\n",
       "      <td>NaN</td>\n",
       "      <td>NaN</td>\n",
       "      <td>NaN</td>\n",
       "      <td>NaN</td>\n",
       "      <td>Homo sapiens</td>\n",
       "      <td>Homo sapiens</td>\n",
       "    </tr>\n",
       "  </tbody>\n",
       "</table>\n",
       "<p>5 rows × 37 columns</p>\n",
       "</div>"
      ],
      "text/plain": [
       "   #BioGRID Interaction ID  Entrez Gene Interactor A  \\\n",
       "0                      103                    6416.0   \n",
       "1                      117                   84665.0   \n",
       "2                      183                      90.0   \n",
       "3                      278                    2624.0   \n",
       "4                      418                    6118.0   \n",
       "\n",
       "   Entrez Gene Interactor B  BioGRID ID Interactor A  BioGRID ID Interactor B  \\\n",
       "0                      2318                   112315                   108607   \n",
       "1                        88                   124185                   106603   \n",
       "2                      2339                   106605                   108625   \n",
       "3                      5371                   108894                   111384   \n",
       "4                      6774                   112038                   112651   \n",
       "\n",
       "  Systematic Name Interactor A Systematic Name Interactor B  \\\n",
       "0                          NaN                          NaN   \n",
       "1                          NaN                          NaN   \n",
       "2                          NaN                          NaN   \n",
       "3                          NaN                          NaN   \n",
       "4                  RP4-547C9.3                          NaN   \n",
       "\n",
       "  Official Symbol Interactor A Official Symbol Interactor B  \\\n",
       "0                       MAP2K4                         FLNC   \n",
       "1                         MYPN                        ACTN2   \n",
       "2                        ACVR1                         FNTA   \n",
       "3                        GATA2                          PML   \n",
       "4                         RPA2                        STAT3   \n",
       "\n",
       "                               Synonyms Interactor A  ...  \\\n",
       "0  JNKK|JNKK1|MAPKK4|MEK4|MKK4|PRKMK4|SAPKK-1|SAP...  ...   \n",
       "1                             CMD1DD|CMH22|MYOP|RCM4  ...   \n",
       "2            ACTRI|ACVR1A|ACVRLK2|ALK2|FOP|SKR1|TSRI  ...   \n",
       "3                           DCML|IMD21|MONOMAC|NFE1B  ...   \n",
       "4                      REPA2|RP-A p32|RP-A p34|RPA32  ...   \n",
       "\n",
       "  TREMBL Accessions Interactor B  \\\n",
       "0                         Q59H94   \n",
       "1                  Q59FD9|F6THM6   \n",
       "2                            NaN   \n",
       "3                            NaN   \n",
       "4                            NaN   \n",
       "\n",
       "                      REFSEQ Accessions Interactor B Ontology Term IDs  \\\n",
       "0                             NP_001120959|NP_001449               NaN   \n",
       "1                NP_001094|NP_001265272|NP_001265273               NaN   \n",
       "2                                          NP_002018               NaN   \n",
       "3  NP_150250|NP_150253|NP_150252|NP_150247|NP_150...               NaN   \n",
       "4  NP_644805|NP_003141|NP_001356447|NP_001356443|...               NaN   \n",
       "\n",
       "  Ontology Term Names Ontology Term Categories  Ontology Term Qualifier IDs  \\\n",
       "0                 NaN                      NaN                          NaN   \n",
       "1                 NaN                      NaN                          NaN   \n",
       "2                 NaN                      NaN                          NaN   \n",
       "3                 NaN                      NaN                          NaN   \n",
       "4                 NaN                      NaN                          NaN   \n",
       "\n",
       "   Ontology Term Qualifier Names Ontology Term Types  \\\n",
       "0                            NaN                 NaN   \n",
       "1                            NaN                 NaN   \n",
       "2                            NaN                 NaN   \n",
       "3                            NaN                 NaN   \n",
       "4                            NaN                 NaN   \n",
       "\n",
       "   Organism Name Interactor A Organism Name Interactor B  \n",
       "0                Homo sapiens               Homo sapiens  \n",
       "1                Homo sapiens               Homo sapiens  \n",
       "2                Homo sapiens               Homo sapiens  \n",
       "3                Homo sapiens               Homo sapiens  \n",
       "4                Homo sapiens               Homo sapiens  \n",
       "\n",
       "[5 rows x 37 columns]"
      ]
     },
     "execution_count": 10,
     "metadata": {},
     "output_type": "execute_result"
    }
   ],
   "source": [
    "biogrid_path = root + \"BIOGRID.tab3.txt\"\n",
    "biogrid_full_DF = pd.read_csv(biogrid_path, sep = '\\t', na_values='-', keep_default_na=True)\n",
    "biogrid_full_DF.head()"
   ]
  },
  {
   "cell_type": "markdown",
   "metadata": {},
   "source": [
    "We select only the interactions among organisms being both *Homo Sapiens*"
   ]
  },
  {
   "cell_type": "code",
   "execution_count": 11,
   "metadata": {},
   "outputs": [
    {
     "data": {
      "text/html": [
       "<div>\n",
       "<style scoped>\n",
       "    .dataframe tbody tr th:only-of-type {\n",
       "        vertical-align: middle;\n",
       "    }\n",
       "\n",
       "    .dataframe tbody tr th {\n",
       "        vertical-align: top;\n",
       "    }\n",
       "\n",
       "    .dataframe thead th {\n",
       "        text-align: right;\n",
       "    }\n",
       "</style>\n",
       "<table border=\"1\" class=\"dataframe\">\n",
       "  <thead>\n",
       "    <tr style=\"text-align: right;\">\n",
       "      <th></th>\n",
       "      <th>#BioGRID Interaction ID</th>\n",
       "      <th>Entrez Gene Interactor A</th>\n",
       "      <th>Entrez Gene Interactor B</th>\n",
       "      <th>BioGRID ID Interactor A</th>\n",
       "      <th>BioGRID ID Interactor B</th>\n",
       "      <th>Systematic Name Interactor A</th>\n",
       "      <th>Systematic Name Interactor B</th>\n",
       "      <th>Official Symbol Interactor A</th>\n",
       "      <th>Official Symbol Interactor B</th>\n",
       "      <th>Synonyms Interactor A</th>\n",
       "      <th>...</th>\n",
       "      <th>TREMBL Accessions Interactor B</th>\n",
       "      <th>REFSEQ Accessions Interactor B</th>\n",
       "      <th>Ontology Term IDs</th>\n",
       "      <th>Ontology Term Names</th>\n",
       "      <th>Ontology Term Categories</th>\n",
       "      <th>Ontology Term Qualifier IDs</th>\n",
       "      <th>Ontology Term Qualifier Names</th>\n",
       "      <th>Ontology Term Types</th>\n",
       "      <th>Organism Name Interactor A</th>\n",
       "      <th>Organism Name Interactor B</th>\n",
       "    </tr>\n",
       "  </thead>\n",
       "  <tbody>\n",
       "    <tr>\n",
       "      <th>0</th>\n",
       "      <td>103</td>\n",
       "      <td>6416</td>\n",
       "      <td>2318</td>\n",
       "      <td>112315</td>\n",
       "      <td>108607</td>\n",
       "      <td>NaN</td>\n",
       "      <td>NaN</td>\n",
       "      <td>MAP2K4</td>\n",
       "      <td>FLNC</td>\n",
       "      <td>JNKK|JNKK1|MAPKK4|MEK4|MKK4|PRKMK4|SAPKK-1|SAP...</td>\n",
       "      <td>...</td>\n",
       "      <td>Q59H94</td>\n",
       "      <td>NP_001120959|NP_001449</td>\n",
       "      <td>NaN</td>\n",
       "      <td>NaN</td>\n",
       "      <td>NaN</td>\n",
       "      <td>NaN</td>\n",
       "      <td>NaN</td>\n",
       "      <td>NaN</td>\n",
       "      <td>Homo sapiens</td>\n",
       "      <td>Homo sapiens</td>\n",
       "    </tr>\n",
       "    <tr>\n",
       "      <th>1</th>\n",
       "      <td>117</td>\n",
       "      <td>84665</td>\n",
       "      <td>88</td>\n",
       "      <td>124185</td>\n",
       "      <td>106603</td>\n",
       "      <td>NaN</td>\n",
       "      <td>NaN</td>\n",
       "      <td>MYPN</td>\n",
       "      <td>ACTN2</td>\n",
       "      <td>CMD1DD|CMH22|MYOP|RCM4</td>\n",
       "      <td>...</td>\n",
       "      <td>Q59FD9|F6THM6</td>\n",
       "      <td>NP_001094|NP_001265272|NP_001265273</td>\n",
       "      <td>NaN</td>\n",
       "      <td>NaN</td>\n",
       "      <td>NaN</td>\n",
       "      <td>NaN</td>\n",
       "      <td>NaN</td>\n",
       "      <td>NaN</td>\n",
       "      <td>Homo sapiens</td>\n",
       "      <td>Homo sapiens</td>\n",
       "    </tr>\n",
       "    <tr>\n",
       "      <th>2</th>\n",
       "      <td>183</td>\n",
       "      <td>90</td>\n",
       "      <td>2339</td>\n",
       "      <td>106605</td>\n",
       "      <td>108625</td>\n",
       "      <td>NaN</td>\n",
       "      <td>NaN</td>\n",
       "      <td>ACVR1</td>\n",
       "      <td>FNTA</td>\n",
       "      <td>ACTRI|ACVR1A|ACVRLK2|ALK2|FOP|SKR1|TSRI</td>\n",
       "      <td>...</td>\n",
       "      <td>NaN</td>\n",
       "      <td>NP_002018</td>\n",
       "      <td>NaN</td>\n",
       "      <td>NaN</td>\n",
       "      <td>NaN</td>\n",
       "      <td>NaN</td>\n",
       "      <td>NaN</td>\n",
       "      <td>NaN</td>\n",
       "      <td>Homo sapiens</td>\n",
       "      <td>Homo sapiens</td>\n",
       "    </tr>\n",
       "    <tr>\n",
       "      <th>3</th>\n",
       "      <td>278</td>\n",
       "      <td>2624</td>\n",
       "      <td>5371</td>\n",
       "      <td>108894</td>\n",
       "      <td>111384</td>\n",
       "      <td>NaN</td>\n",
       "      <td>NaN</td>\n",
       "      <td>GATA2</td>\n",
       "      <td>PML</td>\n",
       "      <td>DCML|IMD21|MONOMAC|NFE1B</td>\n",
       "      <td>...</td>\n",
       "      <td>NaN</td>\n",
       "      <td>NP_150250|NP_150253|NP_150252|NP_150247|NP_150...</td>\n",
       "      <td>NaN</td>\n",
       "      <td>NaN</td>\n",
       "      <td>NaN</td>\n",
       "      <td>NaN</td>\n",
       "      <td>NaN</td>\n",
       "      <td>NaN</td>\n",
       "      <td>Homo sapiens</td>\n",
       "      <td>Homo sapiens</td>\n",
       "    </tr>\n",
       "    <tr>\n",
       "      <th>4</th>\n",
       "      <td>418</td>\n",
       "      <td>6118</td>\n",
       "      <td>6774</td>\n",
       "      <td>112038</td>\n",
       "      <td>112651</td>\n",
       "      <td>RP4-547C9.3</td>\n",
       "      <td>NaN</td>\n",
       "      <td>RPA2</td>\n",
       "      <td>STAT3</td>\n",
       "      <td>REPA2|RP-A p32|RP-A p34|RPA32</td>\n",
       "      <td>...</td>\n",
       "      <td>NaN</td>\n",
       "      <td>NP_644805|NP_003141|NP_001356447|NP_001356443|...</td>\n",
       "      <td>NaN</td>\n",
       "      <td>NaN</td>\n",
       "      <td>NaN</td>\n",
       "      <td>NaN</td>\n",
       "      <td>NaN</td>\n",
       "      <td>NaN</td>\n",
       "      <td>Homo sapiens</td>\n",
       "      <td>Homo sapiens</td>\n",
       "    </tr>\n",
       "    <tr>\n",
       "      <th>...</th>\n",
       "      <td>...</td>\n",
       "      <td>...</td>\n",
       "      <td>...</td>\n",
       "      <td>...</td>\n",
       "      <td>...</td>\n",
       "      <td>...</td>\n",
       "      <td>...</td>\n",
       "      <td>...</td>\n",
       "      <td>...</td>\n",
       "      <td>...</td>\n",
       "      <td>...</td>\n",
       "      <td>...</td>\n",
       "      <td>...</td>\n",
       "      <td>...</td>\n",
       "      <td>...</td>\n",
       "      <td>...</td>\n",
       "      <td>...</td>\n",
       "      <td>...</td>\n",
       "      <td>...</td>\n",
       "      <td>...</td>\n",
       "      <td>...</td>\n",
       "    </tr>\n",
       "    <tr>\n",
       "      <th>696765</th>\n",
       "      <td>2875130</td>\n",
       "      <td>9564</td>\n",
       "      <td>9768</td>\n",
       "      <td>114934</td>\n",
       "      <td>115114</td>\n",
       "      <td>hCG_1980470</td>\n",
       "      <td>L5</td>\n",
       "      <td>BCAR1</td>\n",
       "      <td>KIAA0101</td>\n",
       "      <td>CAS|CAS1|CASS1|CRKAS|P130Cas</td>\n",
       "      <td>...</td>\n",
       "      <td>NaN</td>\n",
       "      <td>NP_001025160|NP_055551</td>\n",
       "      <td>NaN</td>\n",
       "      <td>NaN</td>\n",
       "      <td>NaN</td>\n",
       "      <td>NaN</td>\n",
       "      <td>NaN</td>\n",
       "      <td>NaN</td>\n",
       "      <td>Homo sapiens</td>\n",
       "      <td>Homo sapiens</td>\n",
       "    </tr>\n",
       "    <tr>\n",
       "      <th>696766</th>\n",
       "      <td>2875131</td>\n",
       "      <td>9564</td>\n",
       "      <td>65263</td>\n",
       "      <td>114934</td>\n",
       "      <td>122418</td>\n",
       "      <td>hCG_1980470</td>\n",
       "      <td>NaN</td>\n",
       "      <td>BCAR1</td>\n",
       "      <td>PYCRL</td>\n",
       "      <td>CAS|CAS1|CASS1|CRKAS|P130Cas</td>\n",
       "      <td>...</td>\n",
       "      <td>NaN</td>\n",
       "      <td>NP_001316795|NP_075566</td>\n",
       "      <td>NaN</td>\n",
       "      <td>NaN</td>\n",
       "      <td>NaN</td>\n",
       "      <td>NaN</td>\n",
       "      <td>NaN</td>\n",
       "      <td>NaN</td>\n",
       "      <td>Homo sapiens</td>\n",
       "      <td>Homo sapiens</td>\n",
       "    </tr>\n",
       "    <tr>\n",
       "      <th>696767</th>\n",
       "      <td>2875132</td>\n",
       "      <td>9564</td>\n",
       "      <td>79691</td>\n",
       "      <td>114934</td>\n",
       "      <td>122812</td>\n",
       "      <td>hCG_1980470</td>\n",
       "      <td>NaN</td>\n",
       "      <td>BCAR1</td>\n",
       "      <td>QTRTD1</td>\n",
       "      <td>CAS|CAS1|CASS1|CRKAS|P130Cas</td>\n",
       "      <td>...</td>\n",
       "      <td>NaN</td>\n",
       "      <td>NP_078914|NP_001243764|NP_001243765|NP_001243766</td>\n",
       "      <td>NaN</td>\n",
       "      <td>NaN</td>\n",
       "      <td>NaN</td>\n",
       "      <td>NaN</td>\n",
       "      <td>NaN</td>\n",
       "      <td>NaN</td>\n",
       "      <td>Homo sapiens</td>\n",
       "      <td>Homo sapiens</td>\n",
       "    </tr>\n",
       "    <tr>\n",
       "      <th>696768</th>\n",
       "      <td>2875133</td>\n",
       "      <td>9564</td>\n",
       "      <td>85465</td>\n",
       "      <td>114934</td>\n",
       "      <td>124549</td>\n",
       "      <td>hCG_1980470</td>\n",
       "      <td>NaN</td>\n",
       "      <td>BCAR1</td>\n",
       "      <td>EPT1</td>\n",
       "      <td>CAS|CAS1|CASS1|CRKAS|P130Cas</td>\n",
       "      <td>...</td>\n",
       "      <td>NaN</td>\n",
       "      <td>NP_277040</td>\n",
       "      <td>NaN</td>\n",
       "      <td>NaN</td>\n",
       "      <td>NaN</td>\n",
       "      <td>NaN</td>\n",
       "      <td>NaN</td>\n",
       "      <td>NaN</td>\n",
       "      <td>Homo sapiens</td>\n",
       "      <td>Homo sapiens</td>\n",
       "    </tr>\n",
       "    <tr>\n",
       "      <th>696769</th>\n",
       "      <td>2875134</td>\n",
       "      <td>9564</td>\n",
       "      <td>57103</td>\n",
       "      <td>114934</td>\n",
       "      <td>121369</td>\n",
       "      <td>hCG_1980470</td>\n",
       "      <td>NaN</td>\n",
       "      <td>BCAR1</td>\n",
       "      <td>C12orf5</td>\n",
       "      <td>CAS|CAS1|CASS1|CRKAS|P130Cas</td>\n",
       "      <td>...</td>\n",
       "      <td>NaN</td>\n",
       "      <td>NP_065108</td>\n",
       "      <td>NaN</td>\n",
       "      <td>NaN</td>\n",
       "      <td>NaN</td>\n",
       "      <td>NaN</td>\n",
       "      <td>NaN</td>\n",
       "      <td>NaN</td>\n",
       "      <td>Homo sapiens</td>\n",
       "      <td>Homo sapiens</td>\n",
       "    </tr>\n",
       "  </tbody>\n",
       "</table>\n",
       "<p>640888 rows × 37 columns</p>\n",
       "</div>"
      ],
      "text/plain": [
       "        #BioGRID Interaction ID  Entrez Gene Interactor A  \\\n",
       "0                           103                      6416   \n",
       "1                           117                     84665   \n",
       "2                           183                        90   \n",
       "3                           278                      2624   \n",
       "4                           418                      6118   \n",
       "...                         ...                       ...   \n",
       "696765                  2875130                      9564   \n",
       "696766                  2875131                      9564   \n",
       "696767                  2875132                      9564   \n",
       "696768                  2875133                      9564   \n",
       "696769                  2875134                      9564   \n",
       "\n",
       "        Entrez Gene Interactor B  BioGRID ID Interactor A  \\\n",
       "0                           2318                   112315   \n",
       "1                             88                   124185   \n",
       "2                           2339                   106605   \n",
       "3                           5371                   108894   \n",
       "4                           6774                   112038   \n",
       "...                          ...                      ...   \n",
       "696765                      9768                   114934   \n",
       "696766                     65263                   114934   \n",
       "696767                     79691                   114934   \n",
       "696768                     85465                   114934   \n",
       "696769                     57103                   114934   \n",
       "\n",
       "        BioGRID ID Interactor B Systematic Name Interactor A  \\\n",
       "0                        108607                          NaN   \n",
       "1                        106603                          NaN   \n",
       "2                        108625                          NaN   \n",
       "3                        111384                          NaN   \n",
       "4                        112651                  RP4-547C9.3   \n",
       "...                         ...                          ...   \n",
       "696765                   115114                  hCG_1980470   \n",
       "696766                   122418                  hCG_1980470   \n",
       "696767                   122812                  hCG_1980470   \n",
       "696768                   124549                  hCG_1980470   \n",
       "696769                   121369                  hCG_1980470   \n",
       "\n",
       "       Systematic Name Interactor B Official Symbol Interactor A  \\\n",
       "0                               NaN                       MAP2K4   \n",
       "1                               NaN                         MYPN   \n",
       "2                               NaN                        ACVR1   \n",
       "3                               NaN                        GATA2   \n",
       "4                               NaN                         RPA2   \n",
       "...                             ...                          ...   \n",
       "696765                           L5                        BCAR1   \n",
       "696766                          NaN                        BCAR1   \n",
       "696767                          NaN                        BCAR1   \n",
       "696768                          NaN                        BCAR1   \n",
       "696769                          NaN                        BCAR1   \n",
       "\n",
       "       Official Symbol Interactor B  \\\n",
       "0                              FLNC   \n",
       "1                             ACTN2   \n",
       "2                              FNTA   \n",
       "3                               PML   \n",
       "4                             STAT3   \n",
       "...                             ...   \n",
       "696765                     KIAA0101   \n",
       "696766                        PYCRL   \n",
       "696767                       QTRTD1   \n",
       "696768                         EPT1   \n",
       "696769                      C12orf5   \n",
       "\n",
       "                                    Synonyms Interactor A  ...  \\\n",
       "0       JNKK|JNKK1|MAPKK4|MEK4|MKK4|PRKMK4|SAPKK-1|SAP...  ...   \n",
       "1                                  CMD1DD|CMH22|MYOP|RCM4  ...   \n",
       "2                 ACTRI|ACVR1A|ACVRLK2|ALK2|FOP|SKR1|TSRI  ...   \n",
       "3                                DCML|IMD21|MONOMAC|NFE1B  ...   \n",
       "4                           REPA2|RP-A p32|RP-A p34|RPA32  ...   \n",
       "...                                                   ...  ...   \n",
       "696765                       CAS|CAS1|CASS1|CRKAS|P130Cas  ...   \n",
       "696766                       CAS|CAS1|CASS1|CRKAS|P130Cas  ...   \n",
       "696767                       CAS|CAS1|CASS1|CRKAS|P130Cas  ...   \n",
       "696768                       CAS|CAS1|CASS1|CRKAS|P130Cas  ...   \n",
       "696769                       CAS|CAS1|CASS1|CRKAS|P130Cas  ...   \n",
       "\n",
       "       TREMBL Accessions Interactor B  \\\n",
       "0                              Q59H94   \n",
       "1                       Q59FD9|F6THM6   \n",
       "2                                 NaN   \n",
       "3                                 NaN   \n",
       "4                                 NaN   \n",
       "...                               ...   \n",
       "696765                            NaN   \n",
       "696766                            NaN   \n",
       "696767                            NaN   \n",
       "696768                            NaN   \n",
       "696769                            NaN   \n",
       "\n",
       "                           REFSEQ Accessions Interactor B Ontology Term IDs  \\\n",
       "0                                  NP_001120959|NP_001449               NaN   \n",
       "1                     NP_001094|NP_001265272|NP_001265273               NaN   \n",
       "2                                               NP_002018               NaN   \n",
       "3       NP_150250|NP_150253|NP_150252|NP_150247|NP_150...               NaN   \n",
       "4       NP_644805|NP_003141|NP_001356447|NP_001356443|...               NaN   \n",
       "...                                                   ...               ...   \n",
       "696765                             NP_001025160|NP_055551               NaN   \n",
       "696766                             NP_001316795|NP_075566               NaN   \n",
       "696767   NP_078914|NP_001243764|NP_001243765|NP_001243766               NaN   \n",
       "696768                                          NP_277040               NaN   \n",
       "696769                                          NP_065108               NaN   \n",
       "\n",
       "       Ontology Term Names Ontology Term Categories  \\\n",
       "0                      NaN                      NaN   \n",
       "1                      NaN                      NaN   \n",
       "2                      NaN                      NaN   \n",
       "3                      NaN                      NaN   \n",
       "4                      NaN                      NaN   \n",
       "...                    ...                      ...   \n",
       "696765                 NaN                      NaN   \n",
       "696766                 NaN                      NaN   \n",
       "696767                 NaN                      NaN   \n",
       "696768                 NaN                      NaN   \n",
       "696769                 NaN                      NaN   \n",
       "\n",
       "        Ontology Term Qualifier IDs  Ontology Term Qualifier Names  \\\n",
       "0                               NaN                            NaN   \n",
       "1                               NaN                            NaN   \n",
       "2                               NaN                            NaN   \n",
       "3                               NaN                            NaN   \n",
       "4                               NaN                            NaN   \n",
       "...                             ...                            ...   \n",
       "696765                          NaN                            NaN   \n",
       "696766                          NaN                            NaN   \n",
       "696767                          NaN                            NaN   \n",
       "696768                          NaN                            NaN   \n",
       "696769                          NaN                            NaN   \n",
       "\n",
       "       Ontology Term Types  Organism Name Interactor A  \\\n",
       "0                      NaN                Homo sapiens   \n",
       "1                      NaN                Homo sapiens   \n",
       "2                      NaN                Homo sapiens   \n",
       "3                      NaN                Homo sapiens   \n",
       "4                      NaN                Homo sapiens   \n",
       "...                    ...                         ...   \n",
       "696765                 NaN                Homo sapiens   \n",
       "696766                 NaN                Homo sapiens   \n",
       "696767                 NaN                Homo sapiens   \n",
       "696768                 NaN                Homo sapiens   \n",
       "696769                 NaN                Homo sapiens   \n",
       "\n",
       "       Organism Name Interactor B  \n",
       "0                    Homo sapiens  \n",
       "1                    Homo sapiens  \n",
       "2                    Homo sapiens  \n",
       "3                    Homo sapiens  \n",
       "4                    Homo sapiens  \n",
       "...                           ...  \n",
       "696765               Homo sapiens  \n",
       "696766               Homo sapiens  \n",
       "696767               Homo sapiens  \n",
       "696768               Homo sapiens  \n",
       "696769               Homo sapiens  \n",
       "\n",
       "[640888 rows x 37 columns]"
      ]
     },
     "execution_count": 11,
     "metadata": {},
     "output_type": "execute_result"
    }
   ],
   "source": [
    "biogrid_full_DF = biogrid_full_DF[(biogrid_full_DF['Organism ID Interactor A'] == 9606) & (biogrid_full_DF['Organism ID Interactor B'] == 9606)]\n",
    "biogrid_full_DF.astype({'Entrez Gene Interactor A': 'int64', 'Entrez Gene Interactor B': 'int64'})"
   ]
  },
  {
   "cell_type": "code",
   "execution_count": 12,
   "metadata": {},
   "outputs": [],
   "source": [
    "total_seed_list = set(biogrid_full_DF['Entrez Gene Interactor B']).union(set(biogrid_full_DF['Entrez Gene Interactor A']))"
   ]
  },
  {
   "cell_type": "code",
   "execution_count": 35,
   "metadata": {},
   "outputs": [
    {
     "name": "stdout",
     "output_type": "stream",
     "text": [
      "CAVIN4\n"
     ]
    }
   ],
   "source": [
    "total_protein_symbol_list = set(biogrid_full_DF['Official Symbol Interactor B']).union(set(biogrid_full_DF['Official Symbol Interactor A']))\n",
    "tot_non_seed_pr_list = total_protein_symbol_list.difference(seed_genes_symbols)\n",
    "len(total_protein_symbol_list - tot_non_seed_pr_list)\n",
    "for i in seed_genes_symbols:\n",
    "    if i not in total_protein_symbol_list:\n",
    "        print(i)"
   ]
  },
  {
   "cell_type": "code",
   "execution_count": 38,
   "metadata": {},
   "outputs": [
    {
     "name": "stdout",
     "output_type": "stream",
     "text": [
      "19045 19044\n"
     ]
    }
   ],
   "source": [
    "print(len(total_seed_list.difference(seed_list)), len(tot_non_seed_pr_list))"
   ]
  },
  {
   "cell_type": "markdown",
   "metadata": {},
   "source": [
    "We also check if all the seed genes are also present in the *Biogrid* database:"
   ]
  },
  {
   "cell_type": "code",
   "execution_count": 13,
   "metadata": {},
   "outputs": [
    {
     "name": "stdout",
     "output_type": "stream",
     "text": [
      "Seed genes extracted from DisGeNET:  48\n",
      "Seed genes also present in Biogrid:  48\n"
     ]
    }
   ],
   "source": [
    "print('Seed genes extracted from DisGeNET: ', len(seed_list))\n",
    "print('Seed genes also present in Biogrid: ', len(total_seed_list.intersection(seed_list)))"
   ]
  },
  {
   "cell_type": "code",
   "execution_count": 14,
   "metadata": {},
   "outputs": [
    {
     "name": "stdout",
     "output_type": "stream",
     "text": [
      "Total number of interactions involving at least one seed gene:  12081\n"
     ]
    }
   ],
   "source": [
    "biogrid_seed_genes_interactions = biogrid_full_DF[((biogrid_full_DF['Entrez Gene Interactor A'].isin(seed_list)) | (biogrid_full_DF['Entrez Gene Interactor B'].isin(seed_list)) )]\n",
    "print(\"Total number of interactions involving at least one seed gene: \", biogrid_seed_genes_interactions.shape[0])"
   ]
  },
  {
   "cell_type": "code",
   "execution_count": 15,
   "metadata": {},
   "outputs": [
    {
     "name": "stdout",
     "output_type": "stream",
     "text": [
      "Total number of interactions involving only seed genes:  180\n"
     ]
    }
   ],
   "source": [
    "seed_genes_interactions_ONLY = biogrid_seed_genes_interactions[((biogrid_seed_genes_interactions['Entrez Gene Interactor A'].isin(seed_list)) & (biogrid_seed_genes_interactions['Entrez Gene Interactor B'].isin(seed_list)) )]\n",
    "print(\"Total number of interactions involving only seed genes: \", seed_genes_interactions_ONLY.shape[0])"
   ]
  },
  {
   "cell_type": "code",
   "execution_count": 39,
   "metadata": {},
   "outputs": [
    {
     "name": "stdout",
     "output_type": "stream",
     "text": [
      "Numeber of genes involved in the PPI interactions with the seed genes:  4886 4887\n"
     ]
    }
   ],
   "source": [
    "total_geneId_list = set(biogrid_seed_genes_interactions['Entrez Gene Interactor B']).union(set(biogrid_seed_genes_interactions['Entrez Gene Interactor A']))\n",
    "not_seed_genes = total_geneId_list.difference(seed_list)\n",
    "\n",
    "total_protein_symbol_list = set(biogrid_seed_genes_interactions['Official Symbol Interactor B']).union(set(biogrid_seed_genes_interactions['Official Symbol Interactor A']))\n",
    "not_seed_genes_symbols = total_protein_symbol_list.difference(seed_genes_symbols)\n",
    "\n",
    "print(\"Numeber of genes involved in the PPI interactions with the seed genes: \", len(not_seed_genes), len(not_seed_genes_symbols))"
   ]
  },
  {
   "cell_type": "code",
   "execution_count": 41,
   "metadata": {},
   "outputs": [
    {
     "name": "stdout",
     "output_type": "stream",
     "text": [
      "CAVIN4\n"
     ]
    }
   ],
   "source": [
    "for i in seed_genes_symbols:\n",
    "    if i not in total_protein_symbol_list:\n",
    "        print(i)"
   ]
  },
  {
   "cell_type": "markdown",
   "metadata": {},
   "source": [
    "The protein *CAVIN4* seems to compare in no interaction, but to be sure we filter the table by its GeneId:"
   ]
  },
  {
   "cell_type": "code",
   "execution_count": 45,
   "metadata": {},
   "outputs": [
    {
     "data": {
      "text/plain": [
       "347273"
      ]
     },
     "execution_count": 45,
     "metadata": {},
     "output_type": "execute_result"
    }
   ],
   "source": [
    "cavin4_ID = uniprot_DF.loc[uniprot_DF['GeneName']=='CAVIN4', 'GeneId'].item()\n",
    "cavin4_ID"
   ]
  },
  {
   "cell_type": "code",
   "execution_count": 46,
   "metadata": {},
   "outputs": [
    {
     "data": {
      "text/html": [
       "<div>\n",
       "<style scoped>\n",
       "    .dataframe tbody tr th:only-of-type {\n",
       "        vertical-align: middle;\n",
       "    }\n",
       "\n",
       "    .dataframe tbody tr th {\n",
       "        vertical-align: top;\n",
       "    }\n",
       "\n",
       "    .dataframe thead th {\n",
       "        text-align: right;\n",
       "    }\n",
       "</style>\n",
       "<table border=\"1\" class=\"dataframe\">\n",
       "  <thead>\n",
       "    <tr style=\"text-align: right;\">\n",
       "      <th></th>\n",
       "      <th>#BioGRID Interaction ID</th>\n",
       "      <th>Entrez Gene Interactor A</th>\n",
       "      <th>Entrez Gene Interactor B</th>\n",
       "      <th>BioGRID ID Interactor A</th>\n",
       "      <th>BioGRID ID Interactor B</th>\n",
       "      <th>Systematic Name Interactor A</th>\n",
       "      <th>Systematic Name Interactor B</th>\n",
       "      <th>Official Symbol Interactor A</th>\n",
       "      <th>Official Symbol Interactor B</th>\n",
       "      <th>Synonyms Interactor A</th>\n",
       "      <th>...</th>\n",
       "      <th>TREMBL Accessions Interactor B</th>\n",
       "      <th>REFSEQ Accessions Interactor B</th>\n",
       "      <th>Ontology Term IDs</th>\n",
       "      <th>Ontology Term Names</th>\n",
       "      <th>Ontology Term Categories</th>\n",
       "      <th>Ontology Term Qualifier IDs</th>\n",
       "      <th>Ontology Term Qualifier Names</th>\n",
       "      <th>Ontology Term Types</th>\n",
       "      <th>Organism Name Interactor A</th>\n",
       "      <th>Organism Name Interactor B</th>\n",
       "    </tr>\n",
       "  </thead>\n",
       "  <tbody>\n",
       "    <tr>\n",
       "      <th>118129</th>\n",
       "      <td>738323</td>\n",
       "      <td>347273.0</td>\n",
       "      <td>351</td>\n",
       "      <td>131419</td>\n",
       "      <td>106848</td>\n",
       "      <td>NaN</td>\n",
       "      <td>NaN</td>\n",
       "      <td>MURC</td>\n",
       "      <td>APP</td>\n",
       "      <td>CAVIN4|cavin-4</td>\n",
       "      <td>...</td>\n",
       "      <td>B4DGD0|E9PG40|B4DJT9</td>\n",
       "      <td>NP_958817|NP_958816|NP_001191230|NP_001191231|...</td>\n",
       "      <td>NaN</td>\n",
       "      <td>NaN</td>\n",
       "      <td>NaN</td>\n",
       "      <td>NaN</td>\n",
       "      <td>NaN</td>\n",
       "      <td>NaN</td>\n",
       "      <td>Homo sapiens</td>\n",
       "      <td>Homo sapiens</td>\n",
       "    </tr>\n",
       "    <tr>\n",
       "      <th>566648</th>\n",
       "      <td>2714823</td>\n",
       "      <td>705.0</td>\n",
       "      <td>347273</td>\n",
       "      <td>107167</td>\n",
       "      <td>131419</td>\n",
       "      <td>RP5-973N23.2</td>\n",
       "      <td>NaN</td>\n",
       "      <td>BYSL</td>\n",
       "      <td>MURC</td>\n",
       "      <td>BYSTIN</td>\n",
       "      <td>...</td>\n",
       "      <td>NaN</td>\n",
       "      <td>NP_001018126</td>\n",
       "      <td>NaN</td>\n",
       "      <td>NaN</td>\n",
       "      <td>NaN</td>\n",
       "      <td>NaN</td>\n",
       "      <td>NaN</td>\n",
       "      <td>NaN</td>\n",
       "      <td>Homo sapiens</td>\n",
       "      <td>Homo sapiens</td>\n",
       "    </tr>\n",
       "    <tr>\n",
       "      <th>584673</th>\n",
       "      <td>2732848</td>\n",
       "      <td>55093.0</td>\n",
       "      <td>347273</td>\n",
       "      <td>120405</td>\n",
       "      <td>131419</td>\n",
       "      <td>NaN</td>\n",
       "      <td>NaN</td>\n",
       "      <td>WDYHV1</td>\n",
       "      <td>MURC</td>\n",
       "      <td>C8orf32</td>\n",
       "      <td>...</td>\n",
       "      <td>NaN</td>\n",
       "      <td>NP_001018126</td>\n",
       "      <td>NaN</td>\n",
       "      <td>NaN</td>\n",
       "      <td>NaN</td>\n",
       "      <td>NaN</td>\n",
       "      <td>NaN</td>\n",
       "      <td>NaN</td>\n",
       "      <td>Homo sapiens</td>\n",
       "      <td>Homo sapiens</td>\n",
       "    </tr>\n",
       "    <tr>\n",
       "      <th>591215</th>\n",
       "      <td>2739390</td>\n",
       "      <td>347273.0</td>\n",
       "      <td>84619</td>\n",
       "      <td>131419</td>\n",
       "      <td>124150</td>\n",
       "      <td>NaN</td>\n",
       "      <td>RP4-583P15.3</td>\n",
       "      <td>MURC</td>\n",
       "      <td>ZGPAT</td>\n",
       "      <td>CAVIN4|cavin-4</td>\n",
       "      <td>...</td>\n",
       "      <td>NaN</td>\n",
       "      <td>NP_001076582|NP_115916|NP_001182582|NP_0011825...</td>\n",
       "      <td>NaN</td>\n",
       "      <td>NaN</td>\n",
       "      <td>NaN</td>\n",
       "      <td>NaN</td>\n",
       "      <td>NaN</td>\n",
       "      <td>NaN</td>\n",
       "      <td>Homo sapiens</td>\n",
       "      <td>Homo sapiens</td>\n",
       "    </tr>\n",
       "    <tr>\n",
       "      <th>625353</th>\n",
       "      <td>2784767</td>\n",
       "      <td>2547.0</td>\n",
       "      <td>347273</td>\n",
       "      <td>108822</td>\n",
       "      <td>131419</td>\n",
       "      <td>CTA-216E10.7</td>\n",
       "      <td>NaN</td>\n",
       "      <td>XRCC6</td>\n",
       "      <td>MURC</td>\n",
       "      <td>CTC75|CTCBF|G22P1|KU70|ML8|TLAA</td>\n",
       "      <td>...</td>\n",
       "      <td>NaN</td>\n",
       "      <td>NP_001018126</td>\n",
       "      <td>NaN</td>\n",
       "      <td>NaN</td>\n",
       "      <td>NaN</td>\n",
       "      <td>NaN</td>\n",
       "      <td>NaN</td>\n",
       "      <td>NaN</td>\n",
       "      <td>Homo sapiens</td>\n",
       "      <td>Homo sapiens</td>\n",
       "    </tr>\n",
       "    <tr>\n",
       "      <th>628391</th>\n",
       "      <td>2787805</td>\n",
       "      <td>3159.0</td>\n",
       "      <td>347273</td>\n",
       "      <td>109402</td>\n",
       "      <td>131419</td>\n",
       "      <td>RP11-513I15.2</td>\n",
       "      <td>NaN</td>\n",
       "      <td>HMGA1</td>\n",
       "      <td>MURC</td>\n",
       "      <td>HMG-R|HMGA1A|HMGIY</td>\n",
       "      <td>...</td>\n",
       "      <td>NaN</td>\n",
       "      <td>NP_001018126</td>\n",
       "      <td>NaN</td>\n",
       "      <td>NaN</td>\n",
       "      <td>NaN</td>\n",
       "      <td>NaN</td>\n",
       "      <td>NaN</td>\n",
       "      <td>NaN</td>\n",
       "      <td>Homo sapiens</td>\n",
       "      <td>Homo sapiens</td>\n",
       "    </tr>\n",
       "  </tbody>\n",
       "</table>\n",
       "<p>6 rows × 37 columns</p>\n",
       "</div>"
      ],
      "text/plain": [
       "        #BioGRID Interaction ID  Entrez Gene Interactor A  \\\n",
       "118129                   738323                  347273.0   \n",
       "566648                  2714823                     705.0   \n",
       "584673                  2732848                   55093.0   \n",
       "591215                  2739390                  347273.0   \n",
       "625353                  2784767                    2547.0   \n",
       "628391                  2787805                    3159.0   \n",
       "\n",
       "        Entrez Gene Interactor B  BioGRID ID Interactor A  \\\n",
       "118129                       351                   131419   \n",
       "566648                    347273                   107167   \n",
       "584673                    347273                   120405   \n",
       "591215                     84619                   131419   \n",
       "625353                    347273                   108822   \n",
       "628391                    347273                   109402   \n",
       "\n",
       "        BioGRID ID Interactor B Systematic Name Interactor A  \\\n",
       "118129                   106848                          NaN   \n",
       "566648                   131419                 RP5-973N23.2   \n",
       "584673                   131419                          NaN   \n",
       "591215                   124150                          NaN   \n",
       "625353                   131419                 CTA-216E10.7   \n",
       "628391                   131419                RP11-513I15.2   \n",
       "\n",
       "       Systematic Name Interactor B Official Symbol Interactor A  \\\n",
       "118129                          NaN                         MURC   \n",
       "566648                          NaN                         BYSL   \n",
       "584673                          NaN                       WDYHV1   \n",
       "591215                 RP4-583P15.3                         MURC   \n",
       "625353                          NaN                        XRCC6   \n",
       "628391                          NaN                        HMGA1   \n",
       "\n",
       "       Official Symbol Interactor B            Synonyms Interactor A  ...  \\\n",
       "118129                          APP                   CAVIN4|cavin-4  ...   \n",
       "566648                         MURC                           BYSTIN  ...   \n",
       "584673                         MURC                          C8orf32  ...   \n",
       "591215                        ZGPAT                   CAVIN4|cavin-4  ...   \n",
       "625353                         MURC  CTC75|CTCBF|G22P1|KU70|ML8|TLAA  ...   \n",
       "628391                         MURC               HMG-R|HMGA1A|HMGIY  ...   \n",
       "\n",
       "       TREMBL Accessions Interactor B  \\\n",
       "118129           B4DGD0|E9PG40|B4DJT9   \n",
       "566648                            NaN   \n",
       "584673                            NaN   \n",
       "591215                            NaN   \n",
       "625353                            NaN   \n",
       "628391                            NaN   \n",
       "\n",
       "                           REFSEQ Accessions Interactor B Ontology Term IDs  \\\n",
       "118129  NP_958817|NP_958816|NP_001191230|NP_001191231|...               NaN   \n",
       "566648                                       NP_001018126               NaN   \n",
       "584673                                       NP_001018126               NaN   \n",
       "591215  NP_001076582|NP_115916|NP_001182582|NP_0011825...               NaN   \n",
       "625353                                       NP_001018126               NaN   \n",
       "628391                                       NP_001018126               NaN   \n",
       "\n",
       "       Ontology Term Names Ontology Term Categories  \\\n",
       "118129                 NaN                      NaN   \n",
       "566648                 NaN                      NaN   \n",
       "584673                 NaN                      NaN   \n",
       "591215                 NaN                      NaN   \n",
       "625353                 NaN                      NaN   \n",
       "628391                 NaN                      NaN   \n",
       "\n",
       "        Ontology Term Qualifier IDs  Ontology Term Qualifier Names  \\\n",
       "118129                          NaN                            NaN   \n",
       "566648                          NaN                            NaN   \n",
       "584673                          NaN                            NaN   \n",
       "591215                          NaN                            NaN   \n",
       "625353                          NaN                            NaN   \n",
       "628391                          NaN                            NaN   \n",
       "\n",
       "       Ontology Term Types  Organism Name Interactor A  \\\n",
       "118129                 NaN                Homo sapiens   \n",
       "566648                 NaN                Homo sapiens   \n",
       "584673                 NaN                Homo sapiens   \n",
       "591215                 NaN                Homo sapiens   \n",
       "625353                 NaN                Homo sapiens   \n",
       "628391                 NaN                Homo sapiens   \n",
       "\n",
       "       Organism Name Interactor B  \n",
       "118129               Homo sapiens  \n",
       "566648               Homo sapiens  \n",
       "584673               Homo sapiens  \n",
       "591215               Homo sapiens  \n",
       "625353               Homo sapiens  \n",
       "628391               Homo sapiens  \n",
       "\n",
       "[6 rows x 37 columns]"
      ]
     },
     "execution_count": 46,
     "metadata": {},
     "output_type": "execute_result"
    }
   ],
   "source": [
    "biogrid_seed_genes_interactions[(biogrid_seed_genes_interactions['Entrez Gene Interactor A']==cavin4_ID) | (biogrid_seed_genes_interactions['Entrez Gene Interactor B']==cavin4_ID)]"
   ]
  },
  {
   "cell_type": "markdown",
   "metadata": {},
   "source": [
    "According to the *BioGrid* database, the official symbol for the gene 347273 is *MURC*, whereas *CAVIN4* is one of its aliases. Thus, we modify our seed list to meet this convention"
   ]
  },
  {
   "cell_type": "code",
   "execution_count": 54,
   "metadata": {},
   "outputs": [
    {
     "name": "stdout",
     "output_type": "stream",
     "text": [
      "Numeber of genes involved in the PPI interactions with the seed genes:  4886 4886\n"
     ]
    }
   ],
   "source": [
    "seed_genes_symbols.append('MURC')\n",
    "seed_genes_symbols.remove('CAVIN4')\n",
    "\n",
    "total_protein_symbol_list = set(biogrid_seed_genes_interactions['Official Symbol Interactor B']).union(set(biogrid_seed_genes_interactions['Official Symbol Interactor A']))\n",
    "not_seed_genes_symbols = total_protein_symbol_list.difference(seed_genes_symbols)\n",
    "\n",
    "print(\"Numeber of genes involved in the PPI interactions with the seed genes: \", len(not_seed_genes_symbols))"
   ]
  },
  {
   "cell_type": "markdown",
   "metadata": {},
   "source": [
    "Select the interactions among the non-seed genes from the full dataset"
   ]
  },
  {
   "cell_type": "code",
   "execution_count": 55,
   "metadata": {},
   "outputs": [
    {
     "name": "stdout",
     "output_type": "stream",
     "text": [
      "Total number of interactions involving only seed genes:  259756\n"
     ]
    }
   ],
   "source": [
    "biogrid_non_seed_genes_interactions_ONLY = biogrid_full_DF[(biogrid_full_DF['Official Symbol Interactor A'].isin(not_seed_genes_symbols)) & (biogrid_full_DF['Official Symbol Interactor B'].isin(not_seed_genes_symbols)) ]\n",
    "print(\"Total number of interactions involving only seed genes: \", biogrid_non_seed_genes_interactions_ONLY.shape[0])"
   ]
  },
  {
   "cell_type": "code",
   "execution_count": 18,
   "metadata": {},
   "outputs": [
    {
     "name": "stdout",
     "output_type": "stream",
     "text": [
      "In total, the PPI interactions collected are  271837\n"
     ]
    }
   ],
   "source": [
    "print(\"In total, the PPI interactions collected are \", biogrid_non_seed_genes_interactions_ONLY.shape[0]+biogrid_seed_genes_interactions.shape[0])"
   ]
  },
  {
   "cell_type": "markdown",
   "metadata": {},
   "source": [
    "b) Merge in a single table the data gathered from *BioGrid* and remove useless columns"
   ]
  },
  {
   "cell_type": "code",
   "execution_count": 91,
   "metadata": {},
   "outputs": [
    {
     "data": {
      "text/plain": [
       "(271837, 37)"
      ]
     },
     "execution_count": 91,
     "metadata": {},
     "output_type": "execute_result"
    }
   ],
   "source": [
    "ppi_df = pd.concat([biogrid_seed_genes_interactions, biogrid_non_seed_genes_interactions_ONLY])\n",
    "ppi_df.shape"
   ]
  },
  {
   "cell_type": "markdown",
   "metadata": {},
   "source": [
    "We remove: the four columns reletad to organism of each interactor, since we selected only rows corresponding to *Homo Sapiens*, the column *'Tags'* that contains null values and the column *'Source Database'* that is always equal to *BIOGRID*"
   ]
  },
  {
   "cell_type": "code",
   "execution_count": 92,
   "metadata": {},
   "outputs": [],
   "source": [
    "ppi_df.drop(columns=['Organism Name Interactor A', 'Organism Name Interactor B', 'Organism ID Interactor A', 'Organism ID Interactor B', 'Source Database', 'Tags'], inplace=True)"
   ]
  },
  {
   "cell_type": "code",
   "execution_count": 93,
   "metadata": {},
   "outputs": [
    {
     "data": {
      "text/plain": [
       "array(['Low Throughput', 'High Throughput',\n",
       "       'High Throughput|Low Throughput'], dtype=object)"
      ]
     },
     "execution_count": 93,
     "metadata": {},
     "output_type": "execute_result"
    }
   ],
   "source": [
    "ppi_df['Throughput'].unique()"
   ]
  },
  {
   "cell_type": "code",
   "execution_count": 94,
   "metadata": {},
   "outputs": [
    {
     "name": "stdout",
     "output_type": "stream",
     "text": [
      "#BioGRID Interaction ID 0 \t 0.0 %\t 271837\n",
      "Entrez Gene Interactor A 0 \t 0.0 %\t 4574\n",
      "Entrez Gene Interactor B 0 \t 0.0 %\t 4905\n",
      "BioGRID ID Interactor A 0 \t 0.0 %\t 4574\n",
      "BioGRID ID Interactor B 0 \t 0.0 %\t 4905\n",
      "Systematic Name Interactor A 194979 \t 71.73 %\t 1367\n",
      "Systematic Name Interactor B 194766 \t 71.65 %\t 1462\n",
      "Official Symbol Interactor A 0 \t 0.0 %\t 4574\n",
      "Official Symbol Interactor B 0 \t 0.0 %\t 4905\n",
      "Synonyms Interactor A 14939 \t 5.5 %\t 4154\n",
      "Synonyms Interactor B 15293 \t 5.63 %\t 4420\n",
      "Experimental System 0 \t 0.0 %\t 27\n",
      "Experimental System Type 0 \t 0.0 %\t 2\n",
      "Author 0 \t 0.0 %\t 18998\n",
      "Publication Source 0 \t 0.0 %\t 20068\n",
      "Throughput 0 \t 0.0 %\t 3\n",
      "Score 224406 \t 82.55 %\t 29908\n",
      "Modification 264601 \t 97.34 %\t 18\n",
      "Qualifications 152254 \t 56.01 %\t 6250\n",
      "SWISS-PROT Accessions Interactor A 586 \t 0.22 %\t 4535\n",
      "TREMBL Accessions Interactor A 126099 \t 46.39 %\t 2180\n",
      "REFSEQ Accessions Interactor A 183 \t 0.07 %\t 4560\n",
      "SWISS-PROT Accessions Interactor B 692 \t 0.25 %\t 4831\n",
      "TREMBL Accessions Interactor B 127274 \t 46.82 %\t 2296\n",
      "REFSEQ Accessions Interactor B 392 \t 0.14 %\t 4873\n",
      "Ontology Term IDs 250578 \t 92.18 %\t 301\n",
      "Ontology Term Names 250578 \t 92.18 %\t 301\n",
      "Ontology Term Categories 250578 \t 92.18 %\t 81\n",
      "Ontology Term Qualifier IDs 260506 \t 95.83 %\t 83\n",
      "Ontology Term Qualifier Names 260506 \t 95.83 %\t 82\n",
      "Ontology Term Types 268248 \t 98.68 %\t 10\n"
     ]
    }
   ],
   "source": [
    "tot = ppi_df.shape[0]\n",
    "for col in ppi_df:\n",
    "    nan = ppi_df[col].isna().sum()\n",
    "    print(col, nan, \"\\t\", round(nan/tot*100, 2), '%\\t', ppi_df[col].nunique())"
   ]
  },
  {
   "cell_type": "markdown",
   "metadata": {},
   "source": [
    "Some columns also have a very high percentage of missing values (higher than 90%), namely: *Modification, Ontology Term IDs, Ontology Term Names, Ontology Term Categories, Ontology Term Qualifier IDs, Ontology Term Qualifier Names, Ontology Types*. For this reason we can also remove them from the final database."
   ]
  },
  {
   "cell_type": "code",
   "execution_count": 95,
   "metadata": {},
   "outputs": [],
   "source": [
    "ppi_df.drop(columns=['Modification', 'Ontology Term IDs', 'Ontology Term Names', 'Ontology Term Categories', 'Ontology Term Qualifier IDs', 'Ontology Term Qualifier Names', 'Ontology Term Types'], inplace=True)"
   ]
  },
  {
   "cell_type": "code",
   "execution_count": 96,
   "metadata": {},
   "outputs": [],
   "source": [
    "ppi_df.to_csv('PPIs.csv', index = False, header = True, line_terminator = '\\n', sep=',')"
   ]
  },
  {
   "cell_type": "markdown",
   "metadata": {},
   "source": [
    "c) Summarize the main results in a table reporting:\n",
    "    1. no. of seed genes collected in Disgenet and no. of seed genes found in Biogrid (some seed genes may be missing in the Biogrid);\n",
    "    2. total no. of interacting genes/proteins found, including seed genes;\n",
    "    3. total no. of interactions found."
   ]
  },
  {
   "cell_type": "code",
   "execution_count": 60,
   "metadata": {},
   "outputs": [
    {
     "data": {
      "text/html": [
       "<div>\n",
       "<style scoped>\n",
       "    .dataframe tbody tr th:only-of-type {\n",
       "        vertical-align: middle;\n",
       "    }\n",
       "\n",
       "    .dataframe tbody tr th {\n",
       "        vertical-align: top;\n",
       "    }\n",
       "\n",
       "    .dataframe thead th {\n",
       "        text-align: right;\n",
       "    }\n",
       "</style>\n",
       "<table border=\"1\" class=\"dataframe\">\n",
       "  <thead>\n",
       "    <tr style=\"text-align: right;\">\n",
       "      <th></th>\n",
       "      <th>Tot number</th>\n",
       "    </tr>\n",
       "  </thead>\n",
       "  <tbody>\n",
       "    <tr>\n",
       "      <th>seed_genes (DISGNET)</th>\n",
       "      <td>48</td>\n",
       "    </tr>\n",
       "    <tr>\n",
       "      <th>seed_genes (BIOGRID)</th>\n",
       "      <td>48</td>\n",
       "    </tr>\n",
       "    <tr>\n",
       "      <th>interacting proteins</th>\n",
       "      <td>4934</td>\n",
       "    </tr>\n",
       "    <tr>\n",
       "      <th>interactions</th>\n",
       "      <td>271837</td>\n",
       "    </tr>\n",
       "  </tbody>\n",
       "</table>\n",
       "</div>"
      ],
      "text/plain": [
       "                      Tot number\n",
       "seed_genes (DISGNET)          48\n",
       "seed_genes (BIOGRID)          48\n",
       "interacting proteins        4934\n",
       "interactions              271837"
      ]
     },
     "execution_count": 60,
     "metadata": {},
     "output_type": "execute_result"
    }
   ],
   "source": [
    "ppi_summary = {\n",
    "    \"seed_genes (DISGNET)\": len(seed_list),\n",
    "    \"seed_genes (BIOGRID)\": len(seed_list),\n",
    "    \"interacting proteins\": len(seed_list) + len(not_seed_genes),\n",
    "    \"interactions\": biogrid_non_seed_genes_interactions_ONLY.shape[0]+biogrid_seed_genes_interactions.shape[0]\n",
    "}\n",
    "pd.DataFrame.from_dict(ppi_summary, orient='index', columns = ['Tot number'])"
   ]
  },
  {
   "cell_type": "markdown",
   "metadata": {},
   "source": [
    "## 1.3) Arrange interaction data\n",
    "a) **Seed genes interactome**: interactions that involve seed genes only"
   ]
  },
  {
   "cell_type": "code",
   "execution_count": 26,
   "metadata": {},
   "outputs": [
    {
     "data": {
      "text/html": [
       "<div>\n",
       "<style scoped>\n",
       "    .dataframe tbody tr th:only-of-type {\n",
       "        vertical-align: middle;\n",
       "    }\n",
       "\n",
       "    .dataframe tbody tr th {\n",
       "        vertical-align: top;\n",
       "    }\n",
       "\n",
       "    .dataframe thead th {\n",
       "        text-align: right;\n",
       "    }\n",
       "</style>\n",
       "<table border=\"1\" class=\"dataframe\">\n",
       "  <thead>\n",
       "    <tr style=\"text-align: right;\">\n",
       "      <th></th>\n",
       "      <th>Official Symbol Interactor A</th>\n",
       "      <th>Official Symbol Interactor B</th>\n",
       "      <th>UniprotAC Interactor A</th>\n",
       "      <th>UniprotAC Interactor B</th>\n",
       "    </tr>\n",
       "  </thead>\n",
       "  <tbody>\n",
       "    <tr>\n",
       "      <th>0</th>\n",
       "      <td>FASN</td>\n",
       "      <td>FASN</td>\n",
       "      <td>P49327</td>\n",
       "      <td>P49327</td>\n",
       "    </tr>\n",
       "    <tr>\n",
       "      <th>1</th>\n",
       "      <td>PSEN1</td>\n",
       "      <td>CTNNB1</td>\n",
       "      <td>P49768</td>\n",
       "      <td>P35222</td>\n",
       "    </tr>\n",
       "    <tr>\n",
       "      <th>2</th>\n",
       "      <td>FAS</td>\n",
       "      <td>FASLG</td>\n",
       "      <td>P25445</td>\n",
       "      <td>P48023</td>\n",
       "    </tr>\n",
       "    <tr>\n",
       "      <th>3</th>\n",
       "      <td>EGFR</td>\n",
       "      <td>CTNNB1</td>\n",
       "      <td>P00533</td>\n",
       "      <td>P35222</td>\n",
       "    </tr>\n",
       "    <tr>\n",
       "      <th>4</th>\n",
       "      <td>ATM</td>\n",
       "      <td>ATM</td>\n",
       "      <td>Q13315</td>\n",
       "      <td>Q13315</td>\n",
       "    </tr>\n",
       "  </tbody>\n",
       "</table>\n",
       "</div>"
      ],
      "text/plain": [
       "  Official Symbol Interactor A Official Symbol Interactor B  \\\n",
       "0                         FASN                         FASN   \n",
       "1                        PSEN1                       CTNNB1   \n",
       "2                          FAS                        FASLG   \n",
       "3                         EGFR                       CTNNB1   \n",
       "4                          ATM                          ATM   \n",
       "\n",
       "  UniprotAC Interactor A UniprotAC Interactor B  \n",
       "0                 P49327                 P49327  \n",
       "1                 P49768                 P35222  \n",
       "2                 P25445                 P48023  \n",
       "3                 P00533                 P35222  \n",
       "4                 Q13315                 Q13315  "
      ]
     },
     "execution_count": 26,
     "metadata": {},
     "output_type": "execute_result"
    }
   ],
   "source": [
    "add_uniprotAC_A = seed_genes_interactions_ONLY.join(uniprot_DF[['UniprotAC', 'GeneId']].set_index('GeneId'), on = 'Entrez Gene Interactor A').rename(columns={\"UniprotAC\": \"UniprotAC Interactor A\"})\n",
    "add_uniprotAC_B = add_uniprotAC_A.join(uniprot_DF[['UniprotAC', 'GeneId']].set_index('GeneId'), on = 'Entrez Gene Interactor B').rename(columns={\"UniprotAC\": \"UniprotAC Interactor B\"})\n",
    "final_ppi_seed_genes = add_uniprotAC_B[['Official Symbol Interactor A', 'Official Symbol Interactor B', 'UniprotAC Interactor A' ,'UniprotAC Interactor B' ]].drop_duplicates().reset_index(drop=True)\n",
    "final_ppi_seed_genes.head()"
   ]
  },
  {
   "cell_type": "code",
   "execution_count": 27,
   "metadata": {},
   "outputs": [
    {
     "name": "stdout",
     "output_type": "stream",
     "text": [
      "Total number of interacting couple of proteins among the seed list:  59\n"
     ]
    }
   ],
   "source": [
    "print('Total number of interacting couple of proteins among the seed list: ', final_ppi_seed_genes.shape[0])"
   ]
  },
  {
   "cell_type": "code",
   "execution_count": 28,
   "metadata": {},
   "outputs": [],
   "source": [
    "final_ppi_seed_genes.to_csv('seed_genes_interactome.csv', index = False, header = True, line_terminator = '\\n', sep=',')"
   ]
  },
  {
   "cell_type": "code",
   "execution_count": 25,
   "metadata": {},
   "outputs": [
    {
     "data": {
      "text/html": [
       "<div>\n",
       "<style scoped>\n",
       "    .dataframe tbody tr th:only-of-type {\n",
       "        vertical-align: middle;\n",
       "    }\n",
       "\n",
       "    .dataframe tbody tr th {\n",
       "        vertical-align: top;\n",
       "    }\n",
       "\n",
       "    .dataframe thead th {\n",
       "        text-align: right;\n",
       "    }\n",
       "</style>\n",
       "<table border=\"1\" class=\"dataframe\">\n",
       "  <thead>\n",
       "    <tr style=\"text-align: right;\">\n",
       "      <th></th>\n",
       "      <th>#BioGRID Interaction ID</th>\n",
       "      <th>Official Symbol Interactor A</th>\n",
       "      <th>Official Symbol Interactor B</th>\n",
       "      <th>UniprotAC Interactor A</th>\n",
       "      <th>UniprotAC Interactor B</th>\n",
       "    </tr>\n",
       "  </thead>\n",
       "  <tbody>\n",
       "    <tr>\n",
       "      <th>448</th>\n",
       "      <td>19043</td>\n",
       "      <td>FASN</td>\n",
       "      <td>FASN</td>\n",
       "      <td>P49327</td>\n",
       "      <td>P49327</td>\n",
       "    </tr>\n",
       "    <tr>\n",
       "      <th>6851</th>\n",
       "      <td>243863</td>\n",
       "      <td>PSEN1</td>\n",
       "      <td>CTNNB1</td>\n",
       "      <td>P49768</td>\n",
       "      <td>P35222</td>\n",
       "    </tr>\n",
       "    <tr>\n",
       "      <th>7227</th>\n",
       "      <td>244313</td>\n",
       "      <td>FAS</td>\n",
       "      <td>FASLG</td>\n",
       "      <td>P25445</td>\n",
       "      <td>P48023</td>\n",
       "    </tr>\n",
       "    <tr>\n",
       "      <th>7533</th>\n",
       "      <td>244745</td>\n",
       "      <td>EGFR</td>\n",
       "      <td>CTNNB1</td>\n",
       "      <td>P00533</td>\n",
       "      <td>P35222</td>\n",
       "    </tr>\n",
       "    <tr>\n",
       "      <th>7796</th>\n",
       "      <td>245113</td>\n",
       "      <td>ATM</td>\n",
       "      <td>ATM</td>\n",
       "      <td>Q13315</td>\n",
       "      <td>Q13315</td>\n",
       "    </tr>\n",
       "  </tbody>\n",
       "</table>\n",
       "</div>"
      ],
      "text/plain": [
       "      #BioGRID Interaction ID Official Symbol Interactor A  \\\n",
       "448                     19043                         FASN   \n",
       "6851                   243863                        PSEN1   \n",
       "7227                   244313                          FAS   \n",
       "7533                   244745                         EGFR   \n",
       "7796                   245113                          ATM   \n",
       "\n",
       "     Official Symbol Interactor B UniprotAC Interactor A  \\\n",
       "448                          FASN                 P49327   \n",
       "6851                       CTNNB1                 P49768   \n",
       "7227                        FASLG                 P25445   \n",
       "7533                       CTNNB1                 P00533   \n",
       "7796                          ATM                 Q13315   \n",
       "\n",
       "     UniprotAC Interactor B  \n",
       "448                  P49327  \n",
       "6851                 P35222  \n",
       "7227                 P48023  \n",
       "7533                 P35222  \n",
       "7796                 Q13315  "
      ]
     },
     "execution_count": 25,
     "metadata": {},
     "output_type": "execute_result"
    }
   ],
   "source": [
    "# same as above, but keeping the BioGRID Interaction ID\n",
    "add_uniprotAC_A = seed_genes_interactions_ONLY.join(uniprot_DF[['UniprotAC', 'GeneId']].set_index('GeneId'), on = 'Entrez Gene Interactor A').rename(columns={\"UniprotAC\": \"UniprotAC Interactor A\"})\n",
    "add_uniprotAC_B = add_uniprotAC_A.join(uniprot_DF[['UniprotAC', 'GeneId']].set_index('GeneId'), on = 'Entrez Gene Interactor B').rename(columns={\"UniprotAC\": \"UniprotAC Interactor B\"})\n",
    "final_ppi_seed_genes = add_uniprotAC_B[['#BioGRID Interaction ID','Official Symbol Interactor A', 'Official Symbol Interactor B', 'UniprotAC Interactor A' ,'UniprotAC Interactor B' ]]\n",
    "final_ppi_seed_genes.head()"
   ]
  },
  {
   "cell_type": "code",
   "execution_count": 26,
   "metadata": {},
   "outputs": [],
   "source": [
    "final_ppi_seed_genes.to_csv('seed_genes_interactome_with_BiogridID.csv', index = False, header = True, line_terminator = '\\n', sep=',')"
   ]
  },
  {
   "cell_type": "markdown",
   "metadata": {},
   "source": [
    "b) **Disease interactome**: all proteins interacting with at least one seed gene\n",
    "\n",
    "We first need to retrieve the *UniprotAC* identifier of all the non-seed genes involved in the selected interactions. We can accomplish this through the *Retrieve Id/Mapping* tool on the *Uniprot* website."
   ]
  },
  {
   "cell_type": "code",
   "execution_count": 61,
   "metadata": {},
   "outputs": [],
   "source": [
    "# mapping based on gene symbols -> 4865 out of 4887 \n",
    "with open(\"non_seed_genes_symbol.csv\",'w') as file:\n",
    "    writer = csv.writer(file)\n",
    "    writer.writerow(list(not_seed_genes_symbols))"
   ]
  },
  {
   "cell_type": "markdown",
   "metadata": {},
   "source": [
    "The mapping tool reported that 4864 out of 4886 genes were successfully mapped to 4959 UniProtKB IDs, which means that 22 proteins are not mapped in *Uniprot*."
   ]
  },
  {
   "cell_type": "code",
   "execution_count": 80,
   "metadata": {},
   "outputs": [
    {
     "data": {
      "text/plain": [
       "4959"
      ]
     },
     "execution_count": 80,
     "metadata": {},
     "output_type": "execute_result"
    }
   ],
   "source": [
    "uniprot_not_seed_mapping = pd.read_csv(root + \"uniprot-not-seed-symbol.csv\", sep = '\\t', na_values='-', keep_default_na=True)\n",
    "uniprot_not_seed_mapping['Entry'].nunique()"
   ]
  },
  {
   "cell_type": "code",
   "execution_count": 81,
   "metadata": {},
   "outputs": [
    {
     "data": {
      "text/plain": [
       "4874"
      ]
     },
     "execution_count": 81,
     "metadata": {},
     "output_type": "execute_result"
    }
   ],
   "source": [
    "uniprot_not_seed_mapping['GeneName'].nunique()"
   ]
  },
  {
   "cell_type": "code",
   "execution_count": 82,
   "metadata": {},
   "outputs": [
    {
     "name": "stdout",
     "output_type": "stream",
     "text": [
      "The following proteins are also not been mapped to their UniprotAC identifier: \n",
      " HIST1H2BE COX3 LOC400499 HIST1H2BG HIST1H4H HIST1H4J HBA1 HIST1H2AB HIST1H4L HIST1H2BF HIST1H2BC RPL17-C18orf32\n"
     ]
    }
   ],
   "source": [
    "not_mapped = [i for i in not_seed_genes_symbols if i not in uniprot_not_seed_mapping['GeneName'].unique()]\n",
    "print('The following proteins are also not been mapped to their UniprotAC identifier: \\n', *not_mapped)"
   ]
  },
  {
   "cell_type": "markdown",
   "metadata": {},
   "source": [
    "After a double check on the *Uniprot* website, we found out that the proteins listed above are unreviewed, therefore we keep them not mapped"
   ]
  },
  {
   "cell_type": "code",
   "execution_count": 85,
   "metadata": {},
   "outputs": [
    {
     "name": "stdout",
     "output_type": "stream",
     "text": [
      "5021\n",
      "5033\n"
     ]
    }
   ],
   "source": [
    "print(uniprot_not_seed_mapping.shape[0])\n",
    "nan = np.nan\n",
    "for gene in not_mapped:\n",
    "    df = pd.DataFrame([[nan, gene]], columns=['Entry', 'GeneName'])\n",
    "    uniprot_not_seed_mapping = uniprot_not_seed_mapping.append(df, ignore_index=True)\n",
    "print(uniprot_not_seed_mapping.shape[0])"
   ]
  },
  {
   "cell_type": "code",
   "execution_count": 86,
   "metadata": {},
   "outputs": [
    {
     "name": "stdout",
     "output_type": "stream",
     "text": [
      "5081\n"
     ]
    },
    {
     "data": {
      "text/html": [
       "<div>\n",
       "<style scoped>\n",
       "    .dataframe tbody tr th:only-of-type {\n",
       "        vertical-align: middle;\n",
       "    }\n",
       "\n",
       "    .dataframe tbody tr th {\n",
       "        vertical-align: top;\n",
       "    }\n",
       "\n",
       "    .dataframe thead th {\n",
       "        text-align: right;\n",
       "    }\n",
       "</style>\n",
       "<table border=\"1\" class=\"dataframe\">\n",
       "  <thead>\n",
       "    <tr style=\"text-align: right;\">\n",
       "      <th></th>\n",
       "      <th>UniprotAC</th>\n",
       "      <th>GeneName</th>\n",
       "    </tr>\n",
       "  </thead>\n",
       "  <tbody>\n",
       "    <tr>\n",
       "      <th>0</th>\n",
       "      <td>P68133</td>\n",
       "      <td>ACTA1</td>\n",
       "    </tr>\n",
       "    <tr>\n",
       "      <th>1</th>\n",
       "      <td>P68032</td>\n",
       "      <td>ACTC1</td>\n",
       "    </tr>\n",
       "    <tr>\n",
       "      <th>2</th>\n",
       "      <td>P08588</td>\n",
       "      <td>ADRB1</td>\n",
       "    </tr>\n",
       "    <tr>\n",
       "      <th>3</th>\n",
       "      <td>P07550</td>\n",
       "      <td>ADRB2</td>\n",
       "    </tr>\n",
       "    <tr>\n",
       "      <th>4</th>\n",
       "      <td>P25445</td>\n",
       "      <td>FAS</td>\n",
       "    </tr>\n",
       "  </tbody>\n",
       "</table>\n",
       "</div>"
      ],
      "text/plain": [
       "  UniprotAC GeneName\n",
       "0    P68133    ACTA1\n",
       "1    P68032    ACTC1\n",
       "2    P08588    ADRB1\n",
       "3    P07550    ADRB2\n",
       "4    P25445      FAS"
      ]
     },
     "execution_count": 86,
     "metadata": {},
     "output_type": "execute_result"
    }
   ],
   "source": [
    "uniprot_not_seed_mapping.rename(columns={'Entry' :'UniprotAC'}, inplace = True)\n",
    "uniprot_full = pd.concat([uniprot_DF[['UniprotAC', 'GeneName']], uniprot_not_seed_mapping], ignore_index=True)\n",
    "print(uniprot_full.shape[0])\n",
    "uniprot_full.head()"
   ]
  },
  {
   "cell_type": "markdown",
   "metadata": {},
   "source": [
    "Another problem is that some GeneName are associated to multiple UniprotAC identifiers, namely:"
   ]
  },
  {
   "cell_type": "code",
   "execution_count": 137,
   "metadata": {},
   "outputs": [],
   "source": [
    "g = uniprot_full.groupby('GeneName')['UniprotAC'].apply(list) \n",
    "g = pd.DataFrame(g)\n",
    "agg_uniprot = g[g['UniprotAC'].str.len() > 1]"
   ]
  },
  {
   "cell_type": "code",
   "execution_count": 139,
   "metadata": {},
   "outputs": [
    {
     "data": {
      "text/html": [
       "<div>\n",
       "<style scoped>\n",
       "    .dataframe tbody tr th:only-of-type {\n",
       "        vertical-align: middle;\n",
       "    }\n",
       "\n",
       "    .dataframe tbody tr th {\n",
       "        vertical-align: top;\n",
       "    }\n",
       "\n",
       "    .dataframe thead th {\n",
       "        text-align: right;\n",
       "    }\n",
       "</style>\n",
       "<table border=\"1\" class=\"dataframe\">\n",
       "  <thead>\n",
       "    <tr style=\"text-align: right;\">\n",
       "      <th></th>\n",
       "      <th>GeneName</th>\n",
       "      <th>UniprotAC</th>\n",
       "    </tr>\n",
       "  </thead>\n",
       "  <tbody>\n",
       "    <tr>\n",
       "      <th>0</th>\n",
       "      <td>ACAT1</td>\n",
       "      <td>[P24752, P35610]</td>\n",
       "    </tr>\n",
       "    <tr>\n",
       "      <th>1</th>\n",
       "      <td>ACAT2</td>\n",
       "      <td>[O75908, Q9BWD1]</td>\n",
       "    </tr>\n",
       "    <tr>\n",
       "      <th>2</th>\n",
       "      <td>ADRA1A</td>\n",
       "      <td>[P25100, P35348]</td>\n",
       "    </tr>\n",
       "    <tr>\n",
       "      <th>3</th>\n",
       "      <td>AIP</td>\n",
       "      <td>[O00170, Q9NWT8]</td>\n",
       "    </tr>\n",
       "    <tr>\n",
       "      <th>4</th>\n",
       "      <td>AK3</td>\n",
       "      <td>[P27144, Q9UIJ7]</td>\n",
       "    </tr>\n",
       "  </tbody>\n",
       "</table>\n",
       "</div>"
      ],
      "text/plain": [
       "  GeneName         UniprotAC\n",
       "0    ACAT1  [P24752, P35610]\n",
       "1    ACAT2  [O75908, Q9BWD1]\n",
       "2   ADRA1A  [P25100, P35348]\n",
       "3      AIP  [O00170, Q9NWT8]\n",
       "4      AK3  [P27144, Q9UIJ7]"
      ]
     },
     "execution_count": 139,
     "metadata": {},
     "output_type": "execute_result"
    }
   ],
   "source": [
    "agg_uniprot.reset_index(inplace=True)\n",
    "agg_uniprot.head()"
   ]
  },
  {
   "cell_type": "code",
   "execution_count": 141,
   "metadata": {},
   "outputs": [
    {
     "data": {
      "text/plain": [
       "130"
      ]
     },
     "execution_count": 141,
     "metadata": {},
     "output_type": "execute_result"
    }
   ],
   "source": [
    "multiple_geneName = list(agg_uniprot['GeneName'])\n",
    "len(multiple_geneName)"
   ]
  },
  {
   "cell_type": "markdown",
   "metadata": {},
   "source": [
    "We remove from the *Uniprot_full* db the corresponding rows and we add the aggregation table defined above"
   ]
  },
  {
   "cell_type": "code",
   "execution_count": 152,
   "metadata": {},
   "outputs": [
    {
     "data": {
      "text/plain": [
       "(4934, 2)"
      ]
     },
     "execution_count": 152,
     "metadata": {},
     "output_type": "execute_result"
    }
   ],
   "source": [
    "uniprot_full = uniprot_full[-uniprot_full['GeneName'].isin(multiple_geneName)]\n",
    "uniprot_full = uniprot_full.append(agg_uniprot)\n",
    "uniprot_full.shape"
   ]
  },
  {
   "cell_type": "code",
   "execution_count": 153,
   "metadata": {},
   "outputs": [],
   "source": [
    "uniprot_full.to_csv('uniprot_full.csv', index = False, header = True, line_terminator = '\\n', sep=',')"
   ]
  },
  {
   "cell_type": "markdown",
   "metadata": {},
   "source": [
    "Now we can join the table with all the interactions with the uniprot table"
   ]
  },
  {
   "cell_type": "code",
   "execution_count": 157,
   "metadata": {},
   "outputs": [
    {
     "name": "stdout",
     "output_type": "stream",
     "text": [
      "(212556, 2)\n"
     ]
    },
    {
     "data": {
      "text/html": [
       "<div>\n",
       "<style scoped>\n",
       "    .dataframe tbody tr th:only-of-type {\n",
       "        vertical-align: middle;\n",
       "    }\n",
       "\n",
       "    .dataframe tbody tr th {\n",
       "        vertical-align: top;\n",
       "    }\n",
       "\n",
       "    .dataframe thead th {\n",
       "        text-align: right;\n",
       "    }\n",
       "</style>\n",
       "<table border=\"1\" class=\"dataframe\">\n",
       "  <thead>\n",
       "    <tr style=\"text-align: right;\">\n",
       "      <th></th>\n",
       "      <th>Official Symbol Interactor A</th>\n",
       "      <th>Official Symbol Interactor B</th>\n",
       "    </tr>\n",
       "  </thead>\n",
       "  <tbody>\n",
       "    <tr>\n",
       "      <th>0</th>\n",
       "      <td>ADRB1</td>\n",
       "      <td>GIPC1</td>\n",
       "    </tr>\n",
       "    <tr>\n",
       "      <th>1</th>\n",
       "      <td>PSEN2</td>\n",
       "      <td>CAPN1</td>\n",
       "    </tr>\n",
       "    <tr>\n",
       "      <th>2</th>\n",
       "      <td>CAPN3</td>\n",
       "      <td>TTN</td>\n",
       "    </tr>\n",
       "    <tr>\n",
       "      <th>3</th>\n",
       "      <td>MAGI1</td>\n",
       "      <td>CTNNB1</td>\n",
       "    </tr>\n",
       "    <tr>\n",
       "      <th>4</th>\n",
       "      <td>DCN</td>\n",
       "      <td>EGFR</td>\n",
       "    </tr>\n",
       "  </tbody>\n",
       "</table>\n",
       "</div>"
      ],
      "text/plain": [
       "  Official Symbol Interactor A Official Symbol Interactor B\n",
       "0                        ADRB1                        GIPC1\n",
       "1                        PSEN2                        CAPN1\n",
       "2                        CAPN3                          TTN\n",
       "3                        MAGI1                       CTNNB1\n",
       "4                          DCN                         EGFR"
      ]
     },
     "execution_count": 157,
     "metadata": {},
     "output_type": "execute_result"
    }
   ],
   "source": [
    "ppi_df = ppi_df[['Official Symbol Interactor A', 'Official Symbol Interactor B']].drop_duplicates().reset_index(drop=True)\n",
    "print(ppi_df.shape)\n",
    "ppi_df.head()"
   ]
  },
  {
   "cell_type": "code",
   "execution_count": 169,
   "metadata": {},
   "outputs": [
    {
     "name": "stdout",
     "output_type": "stream",
     "text": [
      "(212556, 4)\n"
     ]
    },
    {
     "data": {
      "text/html": [
       "<div>\n",
       "<style scoped>\n",
       "    .dataframe tbody tr th:only-of-type {\n",
       "        vertical-align: middle;\n",
       "    }\n",
       "\n",
       "    .dataframe tbody tr th {\n",
       "        vertical-align: top;\n",
       "    }\n",
       "\n",
       "    .dataframe thead th {\n",
       "        text-align: right;\n",
       "    }\n",
       "</style>\n",
       "<table border=\"1\" class=\"dataframe\">\n",
       "  <thead>\n",
       "    <tr style=\"text-align: right;\">\n",
       "      <th></th>\n",
       "      <th>Official Symbol Interactor A</th>\n",
       "      <th>Official Symbol Interactor B</th>\n",
       "      <th>UniprotAC Interactor A</th>\n",
       "      <th>UniprotAC Interactor B</th>\n",
       "    </tr>\n",
       "  </thead>\n",
       "  <tbody>\n",
       "    <tr>\n",
       "      <th>0</th>\n",
       "      <td>ADRB1</td>\n",
       "      <td>GIPC1</td>\n",
       "      <td>P08588</td>\n",
       "      <td>O14908</td>\n",
       "    </tr>\n",
       "    <tr>\n",
       "      <th>1</th>\n",
       "      <td>PSEN2</td>\n",
       "      <td>CAPN1</td>\n",
       "      <td>P49810</td>\n",
       "      <td>P07384</td>\n",
       "    </tr>\n",
       "    <tr>\n",
       "      <th>2</th>\n",
       "      <td>CAPN3</td>\n",
       "      <td>TTN</td>\n",
       "      <td>P20807</td>\n",
       "      <td>Q8WZ42</td>\n",
       "    </tr>\n",
       "    <tr>\n",
       "      <th>3</th>\n",
       "      <td>MAGI1</td>\n",
       "      <td>CTNNB1</td>\n",
       "      <td>[Q6P9H4, Q96QZ7]</td>\n",
       "      <td>P35222</td>\n",
       "    </tr>\n",
       "    <tr>\n",
       "      <th>4</th>\n",
       "      <td>DCN</td>\n",
       "      <td>EGFR</td>\n",
       "      <td>P07585</td>\n",
       "      <td>P00533</td>\n",
       "    </tr>\n",
       "    <tr>\n",
       "      <th>5</th>\n",
       "      <td>SUMO1</td>\n",
       "      <td>FAS</td>\n",
       "      <td>P63165</td>\n",
       "      <td>P25445</td>\n",
       "    </tr>\n",
       "    <tr>\n",
       "      <th>6</th>\n",
       "      <td>FLNA</td>\n",
       "      <td>ITGB1</td>\n",
       "      <td>P21333</td>\n",
       "      <td>P05556</td>\n",
       "    </tr>\n",
       "    <tr>\n",
       "      <th>7</th>\n",
       "      <td>LMNA</td>\n",
       "      <td>LMNB1</td>\n",
       "      <td>P02545</td>\n",
       "      <td>P20700</td>\n",
       "    </tr>\n",
       "    <tr>\n",
       "      <th>8</th>\n",
       "      <td>LMNA</td>\n",
       "      <td>SREBF1</td>\n",
       "      <td>P02545</td>\n",
       "      <td>P36956</td>\n",
       "    </tr>\n",
       "    <tr>\n",
       "      <th>9</th>\n",
       "      <td>LMNA</td>\n",
       "      <td>NARF</td>\n",
       "      <td>P02545</td>\n",
       "      <td>[Q8WVD3, Q9UHQ1]</td>\n",
       "    </tr>\n",
       "  </tbody>\n",
       "</table>\n",
       "</div>"
      ],
      "text/plain": [
       "  Official Symbol Interactor A Official Symbol Interactor B  \\\n",
       "0                        ADRB1                        GIPC1   \n",
       "1                        PSEN2                        CAPN1   \n",
       "2                        CAPN3                          TTN   \n",
       "3                        MAGI1                       CTNNB1   \n",
       "4                          DCN                         EGFR   \n",
       "5                        SUMO1                          FAS   \n",
       "6                         FLNA                        ITGB1   \n",
       "7                         LMNA                        LMNB1   \n",
       "8                         LMNA                       SREBF1   \n",
       "9                         LMNA                         NARF   \n",
       "\n",
       "  UniprotAC Interactor A UniprotAC Interactor B  \n",
       "0                 P08588                 O14908  \n",
       "1                 P49810                 P07384  \n",
       "2                 P20807                 Q8WZ42  \n",
       "3       [Q6P9H4, Q96QZ7]                 P35222  \n",
       "4                 P07585                 P00533  \n",
       "5                 P63165                 P25445  \n",
       "6                 P21333                 P05556  \n",
       "7                 P02545                 P20700  \n",
       "8                 P02545                 P36956  \n",
       "9                 P02545       [Q8WVD3, Q9UHQ1]  "
      ]
     },
     "execution_count": 169,
     "metadata": {},
     "output_type": "execute_result"
    }
   ],
   "source": [
    "ppi_df = ppi_df.merge(uniprot_full, left_on ='Official Symbol Interactor A', right_on='GeneName', how = 'left', left_index=False, right_index=False).rename(columns={\"UniprotAC\": \"UniprotAC Interactor A\"})\n",
    "ppi_df = ppi_df.drop(columns = ['GeneName'])\n",
    "ppi_df = ppi_df.merge(uniprot_full, left_on ='Official Symbol Interactor B', right_on='GeneName', how = 'left', left_index=False, right_index=False).rename(columns={\"UniprotAC\": \"UniprotAC Interactor B\"})\n",
    "ppi_df = ppi_df.drop(columns = ['GeneName'])\n",
    "\n",
    "print(ppi_df.shape)\n",
    "ppi_df.head(10)"
   ]
  },
  {
   "cell_type": "markdown",
   "metadata": {},
   "source": [
    "Since not all the gene symbols are mapped, we still have some null values in the columns corresponding to the UniprotAC identifier, namely:"
   ]
  },
  {
   "cell_type": "code",
   "execution_count": 172,
   "metadata": {},
   "outputs": [
    {
     "name": "stdout",
     "output_type": "stream",
     "text": [
      "Null values corresponding to the UniprotAC Interactor A:  1832\n",
      "Null values corresponding to the UniprotAC Interactor B:  908\n"
     ]
    }
   ],
   "source": [
    "print(\"Null values corresponding to the UniprotAC Interactor A: \", ppi_df['UniprotAC Interactor A'].isnull().sum())\n",
    "print(\"Null values corresponding to the UniprotAC Interactor B: \", ppi_df['UniprotAC Interactor B'].isnull().sum())"
   ]
  },
  {
   "cell_type": "code",
   "execution_count": 173,
   "metadata": {},
   "outputs": [],
   "source": [
    "ppi_df.to_csv('desease_interactome.csv', index = False, header = True, line_terminator = '\\n', sep=',')"
   ]
  }
 ],
 "metadata": {
  "kernelspec": {
   "display_name": "Python 3",
   "language": "python",
   "name": "python3"
  },
  "language_info": {
   "codemirror_mode": {
    "name": "ipython",
    "version": 3
   },
   "file_extension": ".py",
   "mimetype": "text/x-python",
   "name": "python",
   "nbconvert_exporter": "python",
   "pygments_lexer": "ipython3",
   "version": "3.8.3"
  }
 },
 "nbformat": 4,
 "nbformat_minor": 4
}
